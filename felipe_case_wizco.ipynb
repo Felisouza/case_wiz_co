{
 "cells": [
  {
   "cell_type": "markdown",
   "metadata": {},
   "source": [
    "# Libs"
   ]
  },
  {
   "cell_type": "code",
   "execution_count": 2,
   "metadata": {},
   "outputs": [],
   "source": [
    "import pandas as pd\n",
    "import seaborn as sns\n",
    "import matplotlib.pyplot as plt\n",
    "import numpy as np\n",
    "from datetime import datetime\n",
    "import os"
   ]
  },
  {
   "cell_type": "markdown",
   "metadata": {},
   "source": [
    "# Leitura dos dados"
   ]
  },
  {
   "cell_type": "code",
   "execution_count": 6,
   "metadata": {},
   "outputs": [
    {
     "name": "stdout",
     "output_type": "stream",
     "text": [
      "receitas\n",
      "vendas\n"
     ]
    }
   ],
   "source": [
    "# Caminho da pasta\n",
    "pasta = r'C:\\Users\\feh_s\\case_wiz_co\\data\\novos_dados'\n",
    "\n",
    "# Lista todos os arquivos na pasta\n",
    "arquivos = os.listdir(pasta)\n",
    "\n",
    "# Loop para ler cada arquivo e atribuir o nome do dataframe\n",
    "for arquivo in arquivos:\n",
    "    # Verifica se o arquivo é um arquivo CSV (ou ajuste para o formato correto, se necessário)\n",
    "    if arquivo.endswith('.csv'):\n",
    "        # Extrai o nome do arquivo sem a extensão para atribuir como nome do dataframe\n",
    "        nome_dataframe = os.path.splitext(arquivo)[0]\n",
    "        \n",
    "        # Lê o arquivo e atribui ao dataframe com o nome correspondente\n",
    "        caminho_completo = os.path.join(pasta, arquivo)\n",
    "        globals()[nome_dataframe] = pd.read_csv(caminho_completo, encoding='latin1')\n",
    "        print(nome_dataframe)\n"
   ]
  },
  {
   "cell_type": "code",
   "execution_count": null,
   "metadata": {},
   "outputs": [],
   "source": []
  }
 ],
 "metadata": {
  "kernelspec": {
   "display_name": "my_env",
   "language": "python",
   "name": "python3"
  },
  "language_info": {
   "codemirror_mode": {
    "name": "ipython",
    "version": 3
   },
   "file_extension": ".py",
   "mimetype": "text/x-python",
   "name": "python",
   "nbconvert_exporter": "python",
   "pygments_lexer": "ipython3",
   "version": "3.10.9"
  },
  "orig_nbformat": 4
 },
 "nbformat": 4,
 "nbformat_minor": 2
}
