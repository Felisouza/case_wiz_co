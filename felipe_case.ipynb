{
 "cells": [
  {
   "attachments": {},
   "cell_type": "markdown",
   "metadata": {},
   "source": [
    "# Libs"
   ]
  },
  {
   "cell_type": "code",
   "execution_count": 57,
   "metadata": {},
   "outputs": [],
   "source": [
    "import pandas as pd\n",
    "import seaborn as sns\n",
    "import matplotlib.pyplot as plt\n",
    "import numpy as np\n",
    "from datetime import datetime\n",
    "import calendar\n",
    "from sklearn.model_selection import train_test_split\n",
    "from sklearn.linear_model import LinearRegression\n",
    "from sklearn.metrics import mean_squared_error"
   ]
  },
  {
   "attachments": {},
   "cell_type": "markdown",
   "metadata": {},
   "source": [
    "# Read data"
   ]
  },
  {
   "cell_type": "code",
   "execution_count": 85,
   "metadata": {},
   "outputs": [],
   "source": [
    "path_venda = \"https://raw.githubusercontent.com/Felisouza/case_wiz_co/main/data/venda.csv\"\n",
    "path_receita = \"https://raw.githubusercontent.com/Felisouza/case_wiz_co/main/data/receita.csv\""
   ]
  },
  {
   "cell_type": "code",
   "execution_count": 88,
   "metadata": {},
   "outputs": [],
   "source": [
    "df_receita = pd.read_csv(path_receita, sep=',')\n",
    "df_venda = pd.read_csv(path_venda, sep=',')"
   ]
  },
  {
   "attachments": {},
   "cell_type": "markdown",
   "metadata": {},
   "source": [
    "# Análise exploratória"
   ]
  },
  {
   "attachments": {},
   "cell_type": "markdown",
   "metadata": {},
   "source": [
    "## Análise exploratória receita"
   ]
  },
  {
   "cell_type": "code",
   "execution_count": 89,
   "metadata": {},
   "outputs": [
    {
     "data": {
      "text/html": [
       "<div>\n",
       "<style scoped>\n",
       "    .dataframe tbody tr th:only-of-type {\n",
       "        vertical-align: middle;\n",
       "    }\n",
       "\n",
       "    .dataframe tbody tr th {\n",
       "        vertical-align: top;\n",
       "    }\n",
       "\n",
       "    .dataframe thead th {\n",
       "        text-align: right;\n",
       "    }\n",
       "</style>\n",
       "<table border=\"1\" class=\"dataframe\">\n",
       "  <thead>\n",
       "    <tr style=\"text-align: right;\">\n",
       "      <th></th>\n",
       "      <th>ano</th>\n",
       "      <th>mes</th>\n",
       "      <th>seguradora</th>\n",
       "      <th>vendedor</th>\n",
       "      <th>tot_apolices</th>\n",
       "      <th>receita</th>\n",
       "    </tr>\n",
       "  </thead>\n",
       "  <tbody>\n",
       "    <tr>\n",
       "      <th>0</th>\n",
       "      <td>2019</td>\n",
       "      <td>1</td>\n",
       "      <td>72</td>\n",
       "      <td>58</td>\n",
       "      <td>1</td>\n",
       "      <td>65,3</td>\n",
       "    </tr>\n",
       "    <tr>\n",
       "      <th>1</th>\n",
       "      <td>2019</td>\n",
       "      <td>1</td>\n",
       "      <td>72</td>\n",
       "      <td>57</td>\n",
       "      <td>4</td>\n",
       "      <td>1360,235</td>\n",
       "    </tr>\n",
       "    <tr>\n",
       "      <th>2</th>\n",
       "      <td>2019</td>\n",
       "      <td>1</td>\n",
       "      <td>72</td>\n",
       "      <td>56</td>\n",
       "      <td>3</td>\n",
       "      <td>276,49</td>\n",
       "    </tr>\n",
       "    <tr>\n",
       "      <th>3</th>\n",
       "      <td>2019</td>\n",
       "      <td>1</td>\n",
       "      <td>72</td>\n",
       "      <td>47</td>\n",
       "      <td>2</td>\n",
       "      <td>-1707,095</td>\n",
       "    </tr>\n",
       "    <tr>\n",
       "      <th>4</th>\n",
       "      <td>2019</td>\n",
       "      <td>1</td>\n",
       "      <td>72</td>\n",
       "      <td>38</td>\n",
       "      <td>3</td>\n",
       "      <td>1080,745</td>\n",
       "    </tr>\n",
       "  </tbody>\n",
       "</table>\n",
       "</div>"
      ],
      "text/plain": [
       "    ano  mes  seguradora  vendedor  tot_apolices    receita\n",
       "0  2019    1          72        58             1       65,3\n",
       "1  2019    1          72        57             4   1360,235\n",
       "2  2019    1          72        56             3     276,49\n",
       "3  2019    1          72        47             2  -1707,095\n",
       "4  2019    1          72        38             3   1080,745"
      ]
     },
     "execution_count": 89,
     "metadata": {},
     "output_type": "execute_result"
    }
   ],
   "source": [
    "df_receita.head()"
   ]
  },
  {
   "attachments": {},
   "cell_type": "markdown",
   "metadata": {},
   "source": [
    "### Fix receita float"
   ]
  },
  {
   "cell_type": "code",
   "execution_count": 90,
   "metadata": {},
   "outputs": [],
   "source": [
    "df_receita['receita'] = df_receita['receita'].apply(lambda x: x.replace(',', '.')).astype('float').fillna(0)"
   ]
  },
  {
   "cell_type": "code",
   "execution_count": 92,
   "metadata": {},
   "outputs": [
    {
     "data": {
      "text/html": [
       "<div>\n",
       "<style scoped>\n",
       "    .dataframe tbody tr th:only-of-type {\n",
       "        vertical-align: middle;\n",
       "    }\n",
       "\n",
       "    .dataframe tbody tr th {\n",
       "        vertical-align: top;\n",
       "    }\n",
       "\n",
       "    .dataframe thead th {\n",
       "        text-align: right;\n",
       "    }\n",
       "</style>\n",
       "<table border=\"1\" class=\"dataframe\">\n",
       "  <thead>\n",
       "    <tr style=\"text-align: right;\">\n",
       "      <th></th>\n",
       "      <th>ano</th>\n",
       "      <th>mes</th>\n",
       "      <th>seguradora</th>\n",
       "      <th>vendedor</th>\n",
       "      <th>tot_apolices</th>\n",
       "      <th>receita</th>\n",
       "    </tr>\n",
       "  </thead>\n",
       "  <tbody>\n",
       "    <tr>\n",
       "      <th>0</th>\n",
       "      <td>2019</td>\n",
       "      <td>1</td>\n",
       "      <td>72</td>\n",
       "      <td>58</td>\n",
       "      <td>1</td>\n",
       "      <td>65.300</td>\n",
       "    </tr>\n",
       "    <tr>\n",
       "      <th>1</th>\n",
       "      <td>2019</td>\n",
       "      <td>1</td>\n",
       "      <td>72</td>\n",
       "      <td>57</td>\n",
       "      <td>4</td>\n",
       "      <td>1360.235</td>\n",
       "    </tr>\n",
       "    <tr>\n",
       "      <th>2</th>\n",
       "      <td>2019</td>\n",
       "      <td>1</td>\n",
       "      <td>72</td>\n",
       "      <td>56</td>\n",
       "      <td>3</td>\n",
       "      <td>276.490</td>\n",
       "    </tr>\n",
       "    <tr>\n",
       "      <th>3</th>\n",
       "      <td>2019</td>\n",
       "      <td>1</td>\n",
       "      <td>72</td>\n",
       "      <td>47</td>\n",
       "      <td>2</td>\n",
       "      <td>-1707.095</td>\n",
       "    </tr>\n",
       "    <tr>\n",
       "      <th>4</th>\n",
       "      <td>2019</td>\n",
       "      <td>1</td>\n",
       "      <td>72</td>\n",
       "      <td>38</td>\n",
       "      <td>3</td>\n",
       "      <td>1080.745</td>\n",
       "    </tr>\n",
       "  </tbody>\n",
       "</table>\n",
       "</div>"
      ],
      "text/plain": [
       "    ano  mes  seguradora  vendedor  tot_apolices   receita\n",
       "0  2019    1          72        58             1    65.300\n",
       "1  2019    1          72        57             4  1360.235\n",
       "2  2019    1          72        56             3   276.490\n",
       "3  2019    1          72        47             2 -1707.095\n",
       "4  2019    1          72        38             3  1080.745"
      ]
     },
     "execution_count": 92,
     "metadata": {},
     "output_type": "execute_result"
    }
   ],
   "source": [
    "df_receita.head()"
   ]
  },
  {
   "cell_type": "code",
   "execution_count": 7,
   "metadata": {},
   "outputs": [],
   "source": [
    "df_receita[['vendedor', 'seguradora']] = df_receita[['vendedor', 'seguradora']].astype('str')"
   ]
  },
  {
   "cell_type": "code",
   "execution_count": 93,
   "metadata": {},
   "outputs": [
    {
     "name": "stdout",
     "output_type": "stream",
     "text": [
      "<class 'pandas.core.frame.DataFrame'>\n",
      "RangeIndex: 1080 entries, 0 to 1079\n",
      "Data columns (total 6 columns):\n",
      " #   Column        Non-Null Count  Dtype  \n",
      "---  ------        --------------  -----  \n",
      " 0   ano           1080 non-null   int64  \n",
      " 1   mes           1080 non-null   int64  \n",
      " 2   seguradora    1080 non-null   int64  \n",
      " 3   vendedor      1080 non-null   int64  \n",
      " 4   tot_apolices  1080 non-null   int64  \n",
      " 5   receita       1080 non-null   float64\n",
      "dtypes: float64(1), int64(5)\n",
      "memory usage: 50.8 KB\n"
     ]
    }
   ],
   "source": [
    "df_receita.info()"
   ]
  },
  {
   "attachments": {},
   "cell_type": "markdown",
   "metadata": {},
   "source": [
    "## Estatísticas descritivas"
   ]
  },
  {
   "cell_type": "code",
   "execution_count": 94,
   "metadata": {},
   "outputs": [
    {
     "name": "stdout",
     "output_type": "stream",
     "text": [
      "<class 'pandas.core.frame.DataFrame'>\n",
      "RangeIndex: 1080 entries, 0 to 1079\n",
      "Data columns (total 6 columns):\n",
      " #   Column        Non-Null Count  Dtype  \n",
      "---  ------        --------------  -----  \n",
      " 0   ano           1080 non-null   int64  \n",
      " 1   mes           1080 non-null   int64  \n",
      " 2   seguradora    1080 non-null   int64  \n",
      " 3   vendedor      1080 non-null   int64  \n",
      " 4   tot_apolices  1080 non-null   int64  \n",
      " 5   receita       1080 non-null   float64\n",
      "dtypes: float64(1), int64(5)\n",
      "memory usage: 50.8 KB\n"
     ]
    }
   ],
   "source": [
    "df_receita.info()"
   ]
  },
  {
   "cell_type": "code",
   "execution_count": 95,
   "metadata": {},
   "outputs": [
    {
     "data": {
      "text/html": [
       "<div>\n",
       "<style scoped>\n",
       "    .dataframe tbody tr th:only-of-type {\n",
       "        vertical-align: middle;\n",
       "    }\n",
       "\n",
       "    .dataframe tbody tr th {\n",
       "        vertical-align: top;\n",
       "    }\n",
       "\n",
       "    .dataframe thead th {\n",
       "        text-align: right;\n",
       "    }\n",
       "</style>\n",
       "<table border=\"1\" class=\"dataframe\">\n",
       "  <thead>\n",
       "    <tr style=\"text-align: right;\">\n",
       "      <th></th>\n",
       "      <th>ano</th>\n",
       "      <th>mes</th>\n",
       "      <th>seguradora</th>\n",
       "      <th>vendedor</th>\n",
       "      <th>tot_apolices</th>\n",
       "      <th>receita</th>\n",
       "    </tr>\n",
       "  </thead>\n",
       "  <tbody>\n",
       "    <tr>\n",
       "      <th>count</th>\n",
       "      <td>1080.000000</td>\n",
       "      <td>1080.000000</td>\n",
       "      <td>1080.000000</td>\n",
       "      <td>1080.000000</td>\n",
       "      <td>1080.00000</td>\n",
       "      <td>1080.000000</td>\n",
       "    </tr>\n",
       "    <tr>\n",
       "      <th>mean</th>\n",
       "      <td>2019.352778</td>\n",
       "      <td>5.695370</td>\n",
       "      <td>56.596296</td>\n",
       "      <td>29.499074</td>\n",
       "      <td>3.32963</td>\n",
       "      <td>1201.460574</td>\n",
       "    </tr>\n",
       "    <tr>\n",
       "      <th>std</th>\n",
       "      <td>0.478056</td>\n",
       "      <td>3.195626</td>\n",
       "      <td>18.292495</td>\n",
       "      <td>17.801292</td>\n",
       "      <td>3.61808</td>\n",
       "      <td>4632.482693</td>\n",
       "    </tr>\n",
       "    <tr>\n",
       "      <th>min</th>\n",
       "      <td>2019.000000</td>\n",
       "      <td>1.000000</td>\n",
       "      <td>4.000000</td>\n",
       "      <td>1.000000</td>\n",
       "      <td>1.00000</td>\n",
       "      <td>-4622.065000</td>\n",
       "    </tr>\n",
       "    <tr>\n",
       "      <th>25%</th>\n",
       "      <td>2019.000000</td>\n",
       "      <td>3.000000</td>\n",
       "      <td>44.000000</td>\n",
       "      <td>16.000000</td>\n",
       "      <td>1.00000</td>\n",
       "      <td>109.560000</td>\n",
       "    </tr>\n",
       "    <tr>\n",
       "      <th>50%</th>\n",
       "      <td>2019.000000</td>\n",
       "      <td>5.000000</td>\n",
       "      <td>66.000000</td>\n",
       "      <td>20.000000</td>\n",
       "      <td>2.00000</td>\n",
       "      <td>309.747500</td>\n",
       "    </tr>\n",
       "    <tr>\n",
       "      <th>75%</th>\n",
       "      <td>2020.000000</td>\n",
       "      <td>8.000000</td>\n",
       "      <td>72.000000</td>\n",
       "      <td>43.000000</td>\n",
       "      <td>4.00000</td>\n",
       "      <td>959.635000</td>\n",
       "    </tr>\n",
       "    <tr>\n",
       "      <th>max</th>\n",
       "      <td>2020.000000</td>\n",
       "      <td>12.000000</td>\n",
       "      <td>83.000000</td>\n",
       "      <td>59.000000</td>\n",
       "      <td>34.00000</td>\n",
       "      <td>125950.595000</td>\n",
       "    </tr>\n",
       "  </tbody>\n",
       "</table>\n",
       "</div>"
      ],
      "text/plain": [
       "               ano          mes   seguradora     vendedor  tot_apolices   \n",
       "count  1080.000000  1080.000000  1080.000000  1080.000000    1080.00000  \\\n",
       "mean   2019.352778     5.695370    56.596296    29.499074       3.32963   \n",
       "std       0.478056     3.195626    18.292495    17.801292       3.61808   \n",
       "min    2019.000000     1.000000     4.000000     1.000000       1.00000   \n",
       "25%    2019.000000     3.000000    44.000000    16.000000       1.00000   \n",
       "50%    2019.000000     5.000000    66.000000    20.000000       2.00000   \n",
       "75%    2020.000000     8.000000    72.000000    43.000000       4.00000   \n",
       "max    2020.000000    12.000000    83.000000    59.000000      34.00000   \n",
       "\n",
       "             receita  \n",
       "count    1080.000000  \n",
       "mean     1201.460574  \n",
       "std      4632.482693  \n",
       "min     -4622.065000  \n",
       "25%       109.560000  \n",
       "50%       309.747500  \n",
       "75%       959.635000  \n",
       "max    125950.595000  "
      ]
     },
     "execution_count": 95,
     "metadata": {},
     "output_type": "execute_result"
    }
   ],
   "source": [
    "df_receita.describe()"
   ]
  },
  {
   "attachments": {},
   "cell_type": "markdown",
   "metadata": {},
   "source": [
    "## Receita por ano"
   ]
  },
  {
   "cell_type": "code",
   "execution_count": 11,
   "metadata": {},
   "outputs": [
    {
     "data": {
      "text/plain": [
       "[Text(0, 0, '1069.97'), Text(0, 0, '1442.7')]"
      ]
     },
     "execution_count": 11,
     "metadata": {},
     "output_type": "execute_result"
    },
    {
     "data": {
      "image/png": "[encoded data removed]",
      "text/plain": [
       "<Figure size 1800x1200 with 2 Axes>"
      ]
     },
     "metadata": {},
     "output_type": "display_data"
    }
   ],
   "source": [
    "plt.figure(figsize=(18,12))\n",
    "\n",
    "plt.tight_layout(pad=1.15, h_pad=1.5, w_pad=1.15, rect=None)\n",
    "\n",
    "# Plotar gráfico usando Seaborn\n",
    "groupedvalues = df_receita.groupby('ano').sum().reset_index()\n",
    "\n",
    "plt.subplot(221)\n",
    "ax1= sns.barplot(x='ano', y='receita', data=groupedvalues, errwidth=0)\n",
    "\n",
    "# Configurações do gráfico\n",
    "plt.xlabel('Ano')\n",
    "plt.ylabel('Receita')\n",
    "plt.title('Soma de Receita por Ano')\n",
    "\n",
    "# Exibir o gráfico\n",
    "ax1.bar_label(ax1.containers[0])\n",
    "\n",
    "\n",
    "groupedvalues = df_receita.groupby('ano').mean().reset_index()\n",
    "\n",
    "plt.subplot(222)\n",
    "ax= sns.barplot(x='ano', y='receita', data=groupedvalues, errwidth=0)\n",
    "\n",
    "# Configurações do gráfico\n",
    "plt.xlabel('Ano')\n",
    "plt.ylabel('Receita')\n",
    "plt.title('Média de Receita por Ano')\n",
    "\n",
    "# Exibir o gráfico\n",
    "ax.bar_label(ax.containers[0])\n",
    "\n",
    "\n",
    "#Apesar de o volume de vendas ser maior que em 2020. A média de venda foi maior em 2020. \n"
   ]
  },
  {
   "cell_type": "code",
   "execution_count": 12,
   "metadata": {},
   "outputs": [
    {
     "data": {
      "text/plain": [
       "ano\n",
       "2019    699\n",
       "2020    381\n",
       "Name: mes, dtype: int64"
      ]
     },
     "execution_count": 12,
     "metadata": {},
     "output_type": "execute_result"
    }
   ],
   "source": [
    "df_receita.groupby('ano').count()['mes']\n",
    "# Em 2019 tivemos mais vendas com valores menores."
   ]
  },
  {
   "attachments": {},
   "cell_type": "markdown",
   "metadata": {},
   "source": [
    "## Receita por mês"
   ]
  },
  {
   "cell_type": "code",
   "execution_count": 13,
   "metadata": {},
   "outputs": [
    {
     "data": {
      "text/plain": [
       "[Text(0, 0, '1037.16'),\n",
       " Text(0, 0, '1180.85'),\n",
       " Text(0, 0, '1102.68'),\n",
       " Text(0, 0, '1181.96'),\n",
       " Text(0, 0, '1119.6'),\n",
       " Text(0, 0, '1282.42'),\n",
       " Text(0, 0, '839.524'),\n",
       " Text(0, 0, '936.652'),\n",
       " Text(0, 0, '1212.91'),\n",
       " Text(0, 0, '856.737'),\n",
       " Text(0, 0, '794.666'),\n",
       " Text(0, 0, '3528.83')]"
      ]
     },
     "execution_count": 13,
     "metadata": {},
     "output_type": "execute_result"
    },
    {
     "data": {
      "image/png": "[encoded data removed]",
      "text/plain": [
       "<Figure size 1800x1200 with 2 Axes>"
      ]
     },
     "metadata": {},
     "output_type": "display_data"
    }
   ],
   "source": [
    "plt.figure(figsize=(18,12))\n",
    "\n",
    "plt.tight_layout(pad=1.15, h_pad=1.5, w_pad=1.15, rect=None)\n",
    "\n",
    "# Plotar gráfico usando Seaborn\n",
    "groupedvalues = df_receita.groupby('mes').sum().reset_index()\n",
    "\n",
    "plt.subplot(221)\n",
    "ax1= sns.barplot(x='mes', y='receita', data=groupedvalues, errwidth=0)\n",
    "\n",
    "# Configurações do gráfico\n",
    "plt.xlabel('Mês')\n",
    "plt.ylabel('Receita')\n",
    "plt.title('Soma de Receita por mês')\n",
    "\n",
    "# Exibir o gráfico\n",
    "ax1.bar_label(ax1.containers[0])\n",
    "\n",
    "\n",
    "groupedvalues = df_receita.groupby('mes').mean().reset_index()\n",
    "\n",
    "plt.subplot(222)\n",
    "ax= sns.barplot(x='mes', y='receita', data=groupedvalues, errwidth=0)\n",
    "\n",
    "# Configurações do gráfico\n",
    "plt.xlabel('Mês')\n",
    "plt.ylabel('Receita')\n",
    "plt.title('Média de Receita por mês')\n",
    "\n",
    "# Exibir o gráfico\n",
    "ax.bar_label(ax.containers[0])\n",
    "\n",
    "\n",
    "#Apesar de o volume de vendas ser maior que em 2020. A média de venda foi maior em 2020. \n"
   ]
  },
  {
   "cell_type": "code",
   "execution_count": 14,
   "metadata": {},
   "outputs": [
    {
     "data": {
      "image/png": "[encoded data removed]",
      "text/plain": [
       "<Figure size 1200x600 with 2 Axes>"
      ]
     },
     "metadata": {},
     "output_type": "display_data"
    }
   ],
   "source": [
    "# Filtrar os dados de 2019\n",
    "dados_2019 = df_receita[df_receita['ano'] == 2019]\n",
    "\n",
    "# Filtrar os dados de 2020\n",
    "dados_2020 = df_receita[df_receita['ano'] == 2020]\n",
    "\n",
    "# Criar figura e eixos dos subplots\n",
    "fig, axes = plt.subplots(nrows=1, ncols=2, figsize=(12, 6))\n",
    "\n",
    "# Plotar gráfico para 2019\n",
    "sns.lineplot(x='mes', y='receita', data=dados_2019, ax=axes[0])\n",
    "axes[0].set_xlabel('Mês')\n",
    "axes[0].set_ylabel('Receita')\n",
    "axes[0].set_title('Média de Receita por Mês - 2019')\n",
    "axes[0].set(ylim=(0, 4000))\n",
    "\n",
    "# Plotar gráfico para 2020\n",
    "sns.lineplot(x='mes', y='receita', data=dados_2020, ax=axes[1])\n",
    "axes[1].set_xlabel('Mês')\n",
    "axes[1].set_ylabel('Receita')\n",
    "axes[1].set_title('Média de Receita por Mês - 2020')\n",
    "axes[1].set(ylim=(0, 4000))\n",
    "\n",
    "\n",
    "# Ajustar espaçamento entre os subplots\n",
    "plt.tight_layout()\n",
    "\n",
    "# Exibir os gráficos\n",
    "plt.show()\n",
    "\n",
    "# Em 2019 a média da receita foi bem mais estável\n",
    "# Pq esse pico em dezembro de 2019? Era esperado? "
   ]
  },
  {
   "cell_type": "code",
   "execution_count": 15,
   "metadata": {},
   "outputs": [
    {
     "data": {
      "image/png": "[encoded data removed]",
      "text/plain": [
       "<Figure size 1200x600 with 2 Axes>"
      ]
     },
     "metadata": {},
     "output_type": "display_data"
    }
   ],
   "source": [
    "df_receita['vendedor'] = df_receita['vendedor'].astype(str)\n",
    "\n",
    "# Filtrar os dados de 2019\n",
    "dados_2019 = df_receita[df_receita['ano'] == 2019]\n",
    "\n",
    "# Filtrar os dados de 2020\n",
    "dados_2020 = df_receita[df_receita['ano'] == 2020]\n",
    "\n",
    "# Criar figura e eixos dos subplots\n",
    "fig, axes = plt.subplots(nrows=1, ncols=2, figsize=(12, 6))\n",
    "\n",
    "# Plotar gráfico para 2019\n",
    "sns.barplot(x='seguradora', y='receita', data=df_receita, ax=axes[0], errwidth=0)\n",
    "axes[0].set_xlabel('Seguradora')\n",
    "axes[0].set_ylabel('Receita')\n",
    "# axes[0].set(ylim=(0, 4000))\n",
    "\n",
    "# Traçar a linha da média da receita\n",
    "mean_receita = df_receita['receita'].mean()\n",
    "axes[0].axhline(mean_receita, color='r', linestyle='--', label='Média')\n",
    "\n",
    "# Plotar gráfico para 2020\n",
    "sns.barplot(x='vendedor', y='receita', data=df_receita, ax=axes[1], errwidth=0)\n",
    "axes[1].set_xlabel('Vendedor')\n",
    "axes[1].set_ylabel('Receita')\n",
    "axes[1].set_title('Média de Receita por Mês - 2020')\n",
    "axes[1].set(ylim=(0, 4000))\n",
    "\n",
    "# Traçar a linha da média da receita\n",
    "mean_receita = df_receita['receita'].mean()\n",
    "axes[1].axhline(mean_receita, color='r', linestyle='--', label='Média')\n",
    "\n",
    "\n",
    "# Ajustar espaçamento entre os subplots\n",
    "plt.tight_layout()\n",
    "\n",
    "# Exibir os gráficos\n",
    "plt.show()\n",
    "\n",
    "# Passar uma linha média para ver quem está abaixo ou acima da média.\n",
    "# Destacar ?"
   ]
  },
  {
   "cell_type": "code",
   "execution_count": 16,
   "metadata": {},
   "outputs": [
    {
     "data": {
      "text/html": [
       "<div>\n",
       "<style scoped>\n",
       "    .dataframe tbody tr th:only-of-type {\n",
       "        vertical-align: middle;\n",
       "    }\n",
       "\n",
       "    .dataframe tbody tr th {\n",
       "        vertical-align: top;\n",
       "    }\n",
       "\n",
       "    .dataframe thead th {\n",
       "        text-align: right;\n",
       "    }\n",
       "</style>\n",
       "<table border=\"1\" class=\"dataframe\">\n",
       "  <thead>\n",
       "    <tr style=\"text-align: right;\">\n",
       "      <th></th>\n",
       "      <th>receita</th>\n",
       "    </tr>\n",
       "    <tr>\n",
       "      <th>seguradora</th>\n",
       "      <th></th>\n",
       "    </tr>\n",
       "  </thead>\n",
       "  <tbody>\n",
       "  </tbody>\n",
       "</table>\n",
       "</div>"
      ],
      "text/plain": [
       "Empty DataFrame\n",
       "Columns: [receita]\n",
       "Index: []"
      ]
     },
     "execution_count": 16,
     "metadata": {},
     "output_type": "execute_result"
    }
   ],
   "source": [
    "(\n",
    "    df_receita[\n",
    "        (df_receita['seguradora'].isin([55, 77])) &\n",
    "        (df_receita['ano'] == 2020)]\n",
    "    [['receita', 'seguradora']]\n",
    "    .groupby('seguradora').sum()\n",
    ")"
   ]
  },
  {
   "cell_type": "code",
   "execution_count": 17,
   "metadata": {},
   "outputs": [
    {
     "name": "stdout",
     "output_type": "stream",
     "text": [
      "Vendedores acima da média de renda:\n",
      "16 125950.595\n",
      "20 30301.38\n",
      "20 26450.0\n"
     ]
    }
   ],
   "source": [
    "vendedores_acima_media = df_receita[df_receita['receita'] > mean_receita].nlargest(3, 'receita')\n",
    "\n",
    "# Imprimir os vendedores acima da média de renda\n",
    "print(\"Vendedores acima da média de renda:\")\n",
    "for index, row in vendedores_acima_media.iterrows():\n",
    "    print(row['vendedor'], row['receita'])"
   ]
  },
  {
   "cell_type": "code",
   "execution_count": 18,
   "metadata": {},
   "outputs": [
    {
     "data": {
      "image/png": "[encoded data removed]",
      "text/plain": [
       "<Figure size 640x480 with 1 Axes>"
      ]
     },
     "metadata": {},
     "output_type": "display_data"
    }
   ],
   "source": [
    "# Plotar gráfico usando Seaborn\n",
    "sns.lineplot(x='mes', y='receita', hue='vendedor', data=df_receita[df_receita['vendedor'].isin(['6', '61', '73', '52'])])\n",
    "\n",
    "# Configurações do gráfico\n",
    "plt.xlabel('Mês')\n",
    "plt.ylabel('Receita')\n",
    "plt.title('Desempenho das Receitas por Vendedores')\n",
    "\n",
    "# Exibir o gráfico\n",
    "plt.show()\n",
    "\n",
    "# [df_receita['seguradora'].isin([55, 56, 77])]"
   ]
  },
  {
   "cell_type": "code",
   "execution_count": 19,
   "metadata": {},
   "outputs": [
    {
     "data": {
      "text/plain": [
       "array([], dtype=object)"
      ]
     },
     "execution_count": 19,
     "metadata": {},
     "output_type": "execute_result"
    }
   ],
   "source": [
    "df_receita[df_receita['vendedor'].isin([6, 61, 73, 53])]['vendedor'].unique()"
   ]
  },
  {
   "cell_type": "code",
   "execution_count": 20,
   "metadata": {},
   "outputs": [],
   "source": [
    "# # Dados de exemplo\n",
    "# dados = {\n",
    "#     'seguradora': ['A', 'B', 'C', 'D', 'E', 'F', 'G', 'H', 'I', 'J'],\n",
    "#     'receita': [1000.0, 1500.0, 1200.0, 1800.0, 2000.0, 1700.0, 1300.0, 1600.0, 1400.0, 1900.0]\n",
    "# }\n",
    "\n",
    "# # Criar DataFrame do Pandas\n",
    "# df_receita = pd.DataFrame(dados)\n",
    "\n",
    "# # Criar figura e eixos dos subplots\n",
    "# fig, axes = plt.subplots(nrows=1, ncols=1, figsize=(8, 6))\n",
    "\n",
    "# # Plotar gráfico para 2019\n",
    "# sns.barplot(x='seguradora', y='receita', data=df_receita, ax=axes, errwidth=0)\n",
    "\n",
    "# # Traçar a linha da média da receita\n",
    "# mean_receita = df_receita['receita'].mean()\n",
    "# axes.axhline(mean_receita, color='r', linestyle='--', label='Média')\n",
    "\n",
    "# # Configurações do gráfico\n",
    "# axes.set_xlabel('Seguradora')\n",
    "# axes.set_ylabel('Receita')\n",
    "# axes.set_title('Média de Receita por Seguradora')\n",
    "# axes.legend()\n",
    "\n",
    "# # Ajustar espaçamento entre os subplots\n",
    "# plt.tight_layout()\n",
    "\n",
    "# # Exibir o gráfico\n",
    "# plt.show()"
   ]
  },
  {
   "attachments": {},
   "cell_type": "markdown",
   "metadata": {},
   "source": [
    "## Total receita"
   ]
  },
  {
   "cell_type": "code",
   "execution_count": 21,
   "metadata": {},
   "outputs": [],
   "source": [
    "df_receita['tot_receita'] = df_receita['tot_apolices']*df_receita['receita']"
   ]
  },
  {
   "attachments": {},
   "cell_type": "markdown",
   "metadata": {},
   "source": [
    "# Análise exploratória vendas"
   ]
  },
  {
   "cell_type": "code",
   "execution_count": 22,
   "metadata": {},
   "outputs": [
    {
     "data": {
      "text/html": [
       "<div>\n",
       "<style scoped>\n",
       "    .dataframe tbody tr th:only-of-type {\n",
       "        vertical-align: middle;\n",
       "    }\n",
       "\n",
       "    .dataframe tbody tr th {\n",
       "        vertical-align: top;\n",
       "    }\n",
       "\n",
       "    .dataframe thead th {\n",
       "        text-align: right;\n",
       "    }\n",
       "</style>\n",
       "<table border=\"1\" class=\"dataframe\">\n",
       "  <thead>\n",
       "    <tr style=\"text-align: right;\">\n",
       "      <th></th>\n",
       "      <th>ano</th>\n",
       "      <th>mes</th>\n",
       "      <th>seguradora</th>\n",
       "      <th>vendedor</th>\n",
       "      <th>tot_apolices</th>\n",
       "      <th>venda</th>\n",
       "    </tr>\n",
       "  </thead>\n",
       "  <tbody>\n",
       "    <tr>\n",
       "      <th>0</th>\n",
       "      <td>2019</td>\n",
       "      <td>1</td>\n",
       "      <td>66</td>\n",
       "      <td>1</td>\n",
       "      <td>1</td>\n",
       "      <td>174,055</td>\n",
       "    </tr>\n",
       "    <tr>\n",
       "      <th>1</th>\n",
       "      <td>2019</td>\n",
       "      <td>1</td>\n",
       "      <td>31</td>\n",
       "      <td>58</td>\n",
       "      <td>1</td>\n",
       "      <td>92,31</td>\n",
       "    </tr>\n",
       "    <tr>\n",
       "      <th>2</th>\n",
       "      <td>2019</td>\n",
       "      <td>1</td>\n",
       "      <td>72</td>\n",
       "      <td>35</td>\n",
       "      <td>6</td>\n",
       "      <td>900,08</td>\n",
       "    </tr>\n",
       "    <tr>\n",
       "      <th>3</th>\n",
       "      <td>2019</td>\n",
       "      <td>1</td>\n",
       "      <td>55</td>\n",
       "      <td>20</td>\n",
       "      <td>1</td>\n",
       "      <td>7550</td>\n",
       "    </tr>\n",
       "    <tr>\n",
       "      <th>4</th>\n",
       "      <td>2019</td>\n",
       "      <td>1</td>\n",
       "      <td>72</td>\n",
       "      <td>58</td>\n",
       "      <td>2</td>\n",
       "      <td>84,175</td>\n",
       "    </tr>\n",
       "  </tbody>\n",
       "</table>\n",
       "</div>"
      ],
      "text/plain": [
       "    ano  mes  seguradora  vendedor  tot_apolices    venda\n",
       "0  2019    1          66         1             1  174,055\n",
       "1  2019    1          31        58             1    92,31\n",
       "2  2019    1          72        35             6   900,08\n",
       "3  2019    1          55        20             1     7550\n",
       "4  2019    1          72        58             2   84,175"
      ]
     },
     "execution_count": 22,
     "metadata": {},
     "output_type": "execute_result"
    }
   ],
   "source": [
    "df_venda.head()"
   ]
  },
  {
   "attachments": {},
   "cell_type": "markdown",
   "metadata": {},
   "source": [
    "## Estatísticas descritivas"
   ]
  },
  {
   "cell_type": "code",
   "execution_count": 23,
   "metadata": {},
   "outputs": [
    {
     "name": "stdout",
     "output_type": "stream",
     "text": [
      "<class 'pandas.core.frame.DataFrame'>\n",
      "RangeIndex: 1242 entries, 0 to 1241\n",
      "Data columns (total 6 columns):\n",
      " #   Column        Non-Null Count  Dtype \n",
      "---  ------        --------------  ----- \n",
      " 0   ano           1242 non-null   int64 \n",
      " 1   mes           1242 non-null   int64 \n",
      " 2   seguradora    1242 non-null   int64 \n",
      " 3   vendedor      1242 non-null   int64 \n",
      " 4   tot_apolices  1242 non-null   int64 \n",
      " 5   venda         1238 non-null   object\n",
      "dtypes: int64(5), object(1)\n",
      "memory usage: 58.3+ KB\n"
     ]
    }
   ],
   "source": [
    "df_venda.info()"
   ]
  },
  {
   "attachments": {},
   "cell_type": "markdown",
   "metadata": {},
   "source": [
    "## Fix valor venda para float"
   ]
  },
  {
   "cell_type": "code",
   "execution_count": 24,
   "metadata": {},
   "outputs": [
    {
     "name": "stdout",
     "output_type": "stream",
     "text": [
      "<class 'float'>\n",
      "<class 'float'>\n",
      "<class 'float'>\n",
      "<class 'float'>\n"
     ]
    }
   ],
   "source": [
    "for i in df_venda['venda']:\n",
    "    if type(i) != str:\n",
    "        print(type(i))"
   ]
  },
  {
   "cell_type": "code",
   "execution_count": 25,
   "metadata": {},
   "outputs": [],
   "source": [
    "df_venda['venda'] = df_venda['venda'].fillna('0.0').apply(lambda x: x.replace(',', '.')).astype('float')"
   ]
  },
  {
   "cell_type": "code",
   "execution_count": 26,
   "metadata": {},
   "outputs": [
    {
     "data": {
      "text/html": [
       "<div>\n",
       "<style scoped>\n",
       "    .dataframe tbody tr th:only-of-type {\n",
       "        vertical-align: middle;\n",
       "    }\n",
       "\n",
       "    .dataframe tbody tr th {\n",
       "        vertical-align: top;\n",
       "    }\n",
       "\n",
       "    .dataframe thead th {\n",
       "        text-align: right;\n",
       "    }\n",
       "</style>\n",
       "<table border=\"1\" class=\"dataframe\">\n",
       "  <thead>\n",
       "    <tr style=\"text-align: right;\">\n",
       "      <th></th>\n",
       "      <th>ano</th>\n",
       "      <th>mes</th>\n",
       "      <th>seguradora</th>\n",
       "      <th>vendedor</th>\n",
       "      <th>tot_apolices</th>\n",
       "      <th>venda</th>\n",
       "    </tr>\n",
       "  </thead>\n",
       "  <tbody>\n",
       "    <tr>\n",
       "      <th>count</th>\n",
       "      <td>1242.000000</td>\n",
       "      <td>1242.000000</td>\n",
       "      <td>1242.000000</td>\n",
       "      <td>1242.000000</td>\n",
       "      <td>1242.000000</td>\n",
       "      <td>1242.000000</td>\n",
       "    </tr>\n",
       "    <tr>\n",
       "      <th>mean</th>\n",
       "      <td>2019.359903</td>\n",
       "      <td>5.566023</td>\n",
       "      <td>55.528986</td>\n",
       "      <td>28.516103</td>\n",
       "      <td>3.416264</td>\n",
       "      <td>1261.065845</td>\n",
       "    </tr>\n",
       "    <tr>\n",
       "      <th>std</th>\n",
       "      <td>0.480165</td>\n",
       "      <td>3.261018</td>\n",
       "      <td>19.054768</td>\n",
       "      <td>17.278731</td>\n",
       "      <td>3.798065</td>\n",
       "      <td>6876.514842</td>\n",
       "    </tr>\n",
       "    <tr>\n",
       "      <th>min</th>\n",
       "      <td>2019.000000</td>\n",
       "      <td>1.000000</td>\n",
       "      <td>4.000000</td>\n",
       "      <td>1.000000</td>\n",
       "      <td>1.000000</td>\n",
       "      <td>-61874.485000</td>\n",
       "    </tr>\n",
       "    <tr>\n",
       "      <th>25%</th>\n",
       "      <td>2019.000000</td>\n",
       "      <td>3.000000</td>\n",
       "      <td>44.000000</td>\n",
       "      <td>16.000000</td>\n",
       "      <td>1.000000</td>\n",
       "      <td>90.246250</td>\n",
       "    </tr>\n",
       "    <tr>\n",
       "      <th>50%</th>\n",
       "      <td>2019.000000</td>\n",
       "      <td>5.000000</td>\n",
       "      <td>66.000000</td>\n",
       "      <td>20.000000</td>\n",
       "      <td>2.000000</td>\n",
       "      <td>253.110000</td>\n",
       "    </tr>\n",
       "    <tr>\n",
       "      <th>75%</th>\n",
       "      <td>2020.000000</td>\n",
       "      <td>8.000000</td>\n",
       "      <td>72.000000</td>\n",
       "      <td>42.000000</td>\n",
       "      <td>4.000000</td>\n",
       "      <td>840.222500</td>\n",
       "    </tr>\n",
       "    <tr>\n",
       "      <th>max</th>\n",
       "      <td>2020.000000</td>\n",
       "      <td>12.000000</td>\n",
       "      <td>83.000000</td>\n",
       "      <td>59.000000</td>\n",
       "      <td>36.000000</td>\n",
       "      <td>148598.290000</td>\n",
       "    </tr>\n",
       "  </tbody>\n",
       "</table>\n",
       "</div>"
      ],
      "text/plain": [
       "               ano          mes   seguradora     vendedor  tot_apolices   \n",
       "count  1242.000000  1242.000000  1242.000000  1242.000000   1242.000000  \\\n",
       "mean   2019.359903     5.566023    55.528986    28.516103      3.416264   \n",
       "std       0.480165     3.261018    19.054768    17.278731      3.798065   \n",
       "min    2019.000000     1.000000     4.000000     1.000000      1.000000   \n",
       "25%    2019.000000     3.000000    44.000000    16.000000      1.000000   \n",
       "50%    2019.000000     5.000000    66.000000    20.000000      2.000000   \n",
       "75%    2020.000000     8.000000    72.000000    42.000000      4.000000   \n",
       "max    2020.000000    12.000000    83.000000    59.000000     36.000000   \n",
       "\n",
       "               venda  \n",
       "count    1242.000000  \n",
       "mean     1261.065845  \n",
       "std      6876.514842  \n",
       "min    -61874.485000  \n",
       "25%        90.246250  \n",
       "50%       253.110000  \n",
       "75%       840.222500  \n",
       "max    148598.290000  "
      ]
     },
     "execution_count": 26,
     "metadata": {},
     "output_type": "execute_result"
    }
   ],
   "source": [
    "df_venda.describe()"
   ]
  },
  {
   "attachments": {},
   "cell_type": "markdown",
   "metadata": {},
   "source": [
    "## Vendas total"
   ]
  },
  {
   "cell_type": "code",
   "execution_count": 27,
   "metadata": {},
   "outputs": [],
   "source": [
    "df_venda['tot_venda'] = df_venda['tot_apolices']*df_venda['venda']"
   ]
  },
  {
   "attachments": {},
   "cell_type": "markdown",
   "metadata": {},
   "source": []
  },
  {
   "cell_type": "code",
   "execution_count": 28,
   "metadata": {},
   "outputs": [],
   "source": [
    "df_venda[['vendedor', 'seguradora']] = df_venda[['vendedor', 'seguradora']].astype('str')"
   ]
  },
  {
   "attachments": {},
   "cell_type": "markdown",
   "metadata": {},
   "source": [
    "## Vendas por ano"
   ]
  },
  {
   "cell_type": "code",
   "execution_count": 29,
   "metadata": {},
   "outputs": [
    {
     "data": {
      "text/plain": [
       "[Text(0, 0, '1069.97'), Text(0, 0, '1442.7')]"
      ]
     },
     "execution_count": 29,
     "metadata": {},
     "output_type": "execute_result"
    },
    {
     "data": {
      "image/png": "[encoded data removed]",
      "text/plain": [
       "<Figure size 1800x1200 with 2 Axes>"
      ]
     },
     "metadata": {},
     "output_type": "display_data"
    }
   ],
   "source": [
    "plt.figure(figsize=(18,12))\n",
    "\n",
    "plt.tight_layout(pad=1.15, h_pad=1.5, w_pad=1.15, rect=None)\n",
    "\n",
    "# Plotar gráfico usando Seaborn\n",
    "groupedvalues = df_receita.groupby('ano').sum().reset_index()\n",
    "\n",
    "plt.subplot(221)\n",
    "ax1= sns.barplot(x='ano', y='receita', data=groupedvalues, errwidth=0)\n",
    "\n",
    "# Configurações do gráfico\n",
    "plt.xlabel('Ano')\n",
    "plt.ylabel('Receita')\n",
    "plt.title('Soma de Receita por Ano')\n",
    "\n",
    "# Exibir o gráfico\n",
    "ax1.bar_label(ax1.containers[0])\n",
    "\n",
    "\n",
    "groupedvalues = df_receita.groupby('ano').mean().reset_index()\n",
    "\n",
    "plt.subplot(222)\n",
    "ax= sns.barplot(x='ano', y='receita', data=groupedvalues, errwidth=0)\n",
    "\n",
    "# Configurações do gráfico\n",
    "plt.xlabel('Ano')\n",
    "plt.ylabel('Receita')\n",
    "plt.title('Média de Receita por Ano')\n",
    "\n",
    "# Exibir o gráfico\n",
    "ax.bar_label(ax.containers[0])\n",
    "\n",
    "\n",
    "#Apesar de o volume de vendas ser maior que em 2020. A média de venda foi maior em 2020. \n"
   ]
  },
  {
   "attachments": {},
   "cell_type": "markdown",
   "metadata": {},
   "source": [
    "## Vendas por mês"
   ]
  },
  {
   "cell_type": "code",
   "execution_count": 30,
   "metadata": {},
   "outputs": [
    {
     "data": {
      "text/plain": [
       "[Text(0, 0, '2557.55'),\n",
       " Text(0, 0, '805.211'),\n",
       " Text(0, 0, '771.252'),\n",
       " Text(0, 0, '615.261'),\n",
       " Text(0, 0, '1260.68'),\n",
       " Text(0, 0, '1365.1'),\n",
       " Text(0, 0, '716.421'),\n",
       " Text(0, 0, '1659.56'),\n",
       " Text(0, 0, '556.94'),\n",
       " Text(0, 0, '953.93'),\n",
       " Text(0, 0, '855.095'),\n",
       " Text(0, 0, '2865.98')]"
      ]
     },
     "execution_count": 30,
     "metadata": {},
     "output_type": "execute_result"
    },
    {
     "data": {
      "image/png": "[encoded data removed]",
      "text/plain": [
       "<Figure size 1800x1200 with 2 Axes>"
      ]
     },
     "metadata": {},
     "output_type": "display_data"
    }
   ],
   "source": [
    "plt.figure(figsize=(18,12))\n",
    "\n",
    "plt.tight_layout(pad=1.15, h_pad=1.5, w_pad=1.15, rect=None)\n",
    "\n",
    "# Plotar gráfico usando Seaborn\n",
    "groupedvalues = df_venda.groupby('mes').sum().reset_index()\n",
    "\n",
    "plt.subplot(221)\n",
    "ax1= sns.barplot(x='mes', y='venda', data=groupedvalues, errwidth=0)\n",
    "\n",
    "# Configurações do gráfico\n",
    "plt.xlabel('Mês')\n",
    "plt.ylabel('venda')\n",
    "plt.title('Soma de venda por mês')\n",
    "\n",
    "# Exibir o gráfico\n",
    "ax1.bar_label(ax1.containers[0])\n",
    "\n",
    "\n",
    "groupedvalues = df_venda.groupby('mes').mean().reset_index()\n",
    "\n",
    "plt.subplot(222)\n",
    "ax= sns.barplot(x='mes', y='venda', data=groupedvalues, errwidth=0)\n",
    "\n",
    "# Configurações do gráfico\n",
    "plt.xlabel('Mês')\n",
    "plt.ylabel('venda')\n",
    "plt.title('Média de venda por mês')\n",
    "\n",
    "# Exibir o gráfico\n",
    "ax.bar_label(ax.containers[0])\n",
    "\n",
    "\n",
    "#Apesar de o volume de vendas ser maior que em 2020. A média de venda foi maior em 2020. \n"
   ]
  },
  {
   "attachments": {},
   "cell_type": "markdown",
   "metadata": {},
   "source": [
    "# Vendedores e seguradora para string"
   ]
  },
  {
   "cell_type": "code",
   "execution_count": 31,
   "metadata": {},
   "outputs": [
    {
     "data": {
      "text/plain": [
       "ano               int64\n",
       "mes               int64\n",
       "seguradora       object\n",
       "vendedor         object\n",
       "tot_apolices      int64\n",
       "venda           float64\n",
       "tot_venda       float64\n",
       "dtype: object"
      ]
     },
     "execution_count": 31,
     "metadata": {},
     "output_type": "execute_result"
    }
   ],
   "source": [
    "df_venda['vendedor'] = df_venda['vendedor'].astype(str)\n",
    "df_venda['seguradora'] = df_venda['seguradora'].astype(str)\n",
    "df_venda.dtypes\n",
    "\n",
    "\n",
    "\n"
   ]
  },
  {
   "attachments": {},
   "cell_type": "markdown",
   "metadata": {},
   "source": [
    "# Mês por extenso"
   ]
  },
  {
   "cell_type": "code",
   "execution_count": 32,
   "metadata": {},
   "outputs": [],
   "source": [
    "df_venda['month_name'] = df_venda['mes'].apply(lambda x:  calendar.month_name[x])\n",
    "df_receita['month_name'] = df_receita['mes'].apply(lambda x:  calendar.month_name[x])"
   ]
  },
  {
   "attachments": {},
   "cell_type": "markdown",
   "metadata": {},
   "source": [
    "df_receita['receita'].apply(lambda x: x.replace(',', '.')).astype('float').fillna(0)"
   ]
  },
  {
   "cell_type": "code",
   "execution_count": 33,
   "metadata": {},
   "outputs": [
    {
     "data": {
      "text/plain": [
       "Index(['ano', 'mes', 'seguradora', 'vendedor', 'tot_apolices', 'venda',\n",
       "       'tot_venda', 'month_name'],\n",
       "      dtype='object')"
      ]
     },
     "execution_count": 33,
     "metadata": {},
     "output_type": "execute_result"
    }
   ],
   "source": [
    "df_venda.columns"
   ]
  },
  {
   "attachments": {},
   "cell_type": "markdown",
   "metadata": {},
   "source": [
    "# Inadimplente ou não"
   ]
  },
  {
   "cell_type": "code",
   "execution_count": 34,
   "metadata": {},
   "outputs": [
    {
     "data": {
      "text/html": [
       "<div>\n",
       "<style scoped>\n",
       "    .dataframe tbody tr th:only-of-type {\n",
       "        vertical-align: middle;\n",
       "    }\n",
       "\n",
       "    .dataframe tbody tr th {\n",
       "        vertical-align: top;\n",
       "    }\n",
       "\n",
       "    .dataframe thead th {\n",
       "        text-align: right;\n",
       "    }\n",
       "</style>\n",
       "<table border=\"1\" class=\"dataframe\">\n",
       "  <thead>\n",
       "    <tr style=\"text-align: right;\">\n",
       "      <th></th>\n",
       "      <th>ano</th>\n",
       "      <th>mes</th>\n",
       "      <th>seguradora</th>\n",
       "      <th>vendedor</th>\n",
       "      <th>tot_apolices</th>\n",
       "      <th>venda</th>\n",
       "      <th>tot_venda</th>\n",
       "      <th>month_name</th>\n",
       "    </tr>\n",
       "  </thead>\n",
       "  <tbody>\n",
       "    <tr>\n",
       "      <th>0</th>\n",
       "      <td>2019</td>\n",
       "      <td>1</td>\n",
       "      <td>66</td>\n",
       "      <td>1</td>\n",
       "      <td>1</td>\n",
       "      <td>174.055</td>\n",
       "      <td>174.055</td>\n",
       "      <td>January</td>\n",
       "    </tr>\n",
       "    <tr>\n",
       "      <th>1</th>\n",
       "      <td>2019</td>\n",
       "      <td>1</td>\n",
       "      <td>31</td>\n",
       "      <td>58</td>\n",
       "      <td>1</td>\n",
       "      <td>92.310</td>\n",
       "      <td>92.310</td>\n",
       "      <td>January</td>\n",
       "    </tr>\n",
       "    <tr>\n",
       "      <th>2</th>\n",
       "      <td>2019</td>\n",
       "      <td>1</td>\n",
       "      <td>72</td>\n",
       "      <td>35</td>\n",
       "      <td>6</td>\n",
       "      <td>900.080</td>\n",
       "      <td>5400.480</td>\n",
       "      <td>January</td>\n",
       "    </tr>\n",
       "    <tr>\n",
       "      <th>3</th>\n",
       "      <td>2019</td>\n",
       "      <td>1</td>\n",
       "      <td>55</td>\n",
       "      <td>20</td>\n",
       "      <td>1</td>\n",
       "      <td>7550.000</td>\n",
       "      <td>7550.000</td>\n",
       "      <td>January</td>\n",
       "    </tr>\n",
       "    <tr>\n",
       "      <th>4</th>\n",
       "      <td>2019</td>\n",
       "      <td>1</td>\n",
       "      <td>72</td>\n",
       "      <td>58</td>\n",
       "      <td>2</td>\n",
       "      <td>84.175</td>\n",
       "      <td>168.350</td>\n",
       "      <td>January</td>\n",
       "    </tr>\n",
       "  </tbody>\n",
       "</table>\n",
       "</div>"
      ],
      "text/plain": [
       "    ano  mes seguradora vendedor  tot_apolices     venda  tot_venda month_name\n",
       "0  2019    1         66        1             1   174.055    174.055    January\n",
       "1  2019    1         31       58             1    92.310     92.310    January\n",
       "2  2019    1         72       35             6   900.080   5400.480    January\n",
       "3  2019    1         55       20             1  7550.000   7550.000    January\n",
       "4  2019    1         72       58             2    84.175    168.350    January"
      ]
     },
     "execution_count": 34,
     "metadata": {},
     "output_type": "execute_result"
    }
   ],
   "source": [
    "df_venda.head()"
   ]
  },
  {
   "cell_type": "code",
   "execution_count": 35,
   "metadata": {},
   "outputs": [
    {
     "data": {
      "text/html": [
       "<div>\n",
       "<style scoped>\n",
       "    .dataframe tbody tr th:only-of-type {\n",
       "        vertical-align: middle;\n",
       "    }\n",
       "\n",
       "    .dataframe tbody tr th {\n",
       "        vertical-align: top;\n",
       "    }\n",
       "\n",
       "    .dataframe thead th {\n",
       "        text-align: right;\n",
       "    }\n",
       "</style>\n",
       "<table border=\"1\" class=\"dataframe\">\n",
       "  <thead>\n",
       "    <tr style=\"text-align: right;\">\n",
       "      <th></th>\n",
       "      <th>ano</th>\n",
       "      <th>mes</th>\n",
       "      <th>seguradora</th>\n",
       "      <th>vendedor</th>\n",
       "      <th>tot_apolices</th>\n",
       "      <th>receita</th>\n",
       "      <th>tot_receita</th>\n",
       "      <th>month_name</th>\n",
       "    </tr>\n",
       "  </thead>\n",
       "  <tbody>\n",
       "    <tr>\n",
       "      <th>31</th>\n",
       "      <td>2019</td>\n",
       "      <td>1</td>\n",
       "      <td>21</td>\n",
       "      <td>12</td>\n",
       "      <td>1</td>\n",
       "      <td>3225.780</td>\n",
       "      <td>3225.780</td>\n",
       "      <td>January</td>\n",
       "    </tr>\n",
       "    <tr>\n",
       "      <th>30</th>\n",
       "      <td>2019</td>\n",
       "      <td>1</td>\n",
       "      <td>23</td>\n",
       "      <td>20</td>\n",
       "      <td>1</td>\n",
       "      <td>110.800</td>\n",
       "      <td>110.800</td>\n",
       "      <td>January</td>\n",
       "    </tr>\n",
       "    <tr>\n",
       "      <th>22</th>\n",
       "      <td>2019</td>\n",
       "      <td>1</td>\n",
       "      <td>44</td>\n",
       "      <td>56</td>\n",
       "      <td>1</td>\n",
       "      <td>84.095</td>\n",
       "      <td>84.095</td>\n",
       "      <td>January</td>\n",
       "    </tr>\n",
       "    <tr>\n",
       "      <th>23</th>\n",
       "      <td>2019</td>\n",
       "      <td>1</td>\n",
       "      <td>44</td>\n",
       "      <td>42</td>\n",
       "      <td>1</td>\n",
       "      <td>81.800</td>\n",
       "      <td>81.800</td>\n",
       "      <td>January</td>\n",
       "    </tr>\n",
       "    <tr>\n",
       "      <th>24</th>\n",
       "      <td>2019</td>\n",
       "      <td>1</td>\n",
       "      <td>44</td>\n",
       "      <td>38</td>\n",
       "      <td>4</td>\n",
       "      <td>474.080</td>\n",
       "      <td>1896.320</td>\n",
       "      <td>January</td>\n",
       "    </tr>\n",
       "  </tbody>\n",
       "</table>\n",
       "</div>"
      ],
      "text/plain": [
       "     ano  mes seguradora vendedor  tot_apolices   receita  tot_receita   \n",
       "31  2019    1         21       12             1  3225.780     3225.780  \\\n",
       "30  2019    1         23       20             1   110.800      110.800   \n",
       "22  2019    1         44       56             1    84.095       84.095   \n",
       "23  2019    1         44       42             1    81.800       81.800   \n",
       "24  2019    1         44       38             4   474.080     1896.320   \n",
       "\n",
       "   month_name  \n",
       "31    January  \n",
       "30    January  \n",
       "22    January  \n",
       "23    January  \n",
       "24    January  "
      ]
     },
     "execution_count": 35,
     "metadata": {},
     "output_type": "execute_result"
    }
   ],
   "source": [
    "df_receita.sort_values(['ano', 'mes', 'seguradora']).head()"
   ]
  },
  {
   "cell_type": "code",
   "execution_count": 36,
   "metadata": {},
   "outputs": [],
   "source": [
    "df1 = df_venda.groupby(['ano', 'mes', 'seguradora'], as_index=False)['tot_venda'].sum()\n",
    "df2 = df_receita.groupby(['ano', 'mes', 'seguradora'], as_index=False)['tot_receita'].sum()"
   ]
  },
  {
   "cell_type": "code",
   "execution_count": 37,
   "metadata": {},
   "outputs": [
    {
     "data": {
      "text/plain": [
       "False"
      ]
     },
     "execution_count": 37,
     "metadata": {},
     "output_type": "execute_result"
    }
   ],
   "source": [
    "np.array_equal(df1['seguradora'].unique(), df2['seguradora'].unique())"
   ]
  },
  {
   "cell_type": "code",
   "execution_count": 38,
   "metadata": {},
   "outputs": [
    {
     "data": {
      "text/plain": [
       "array(['13', '19', '21', '23', '24', '31', '33', '35', '38', '4', '41',\n",
       "       '42', '43', '44', '51', '54', '55', '56', '58', '6', '62', '64',\n",
       "       '66', '68', '72', '74', '75', '77', '78', '79', '81', '83'],\n",
       "      dtype=object)"
      ]
     },
     "execution_count": 38,
     "metadata": {},
     "output_type": "execute_result"
    }
   ],
   "source": [
    "np.sort(df1['seguradora'].unique())"
   ]
  },
  {
   "cell_type": "code",
   "execution_count": 39,
   "metadata": {},
   "outputs": [
    {
     "data": {
      "text/plain": [
       "array(['13', '19', '21', '23', '24', '31', '35', '38', '4', '41', '42',\n",
       "       '43', '44', '54', '55', '56', '58', '6', '62', '64', '66', '72',\n",
       "       '74', '75', '77', '79', '81', '83'], dtype=object)"
      ]
     },
     "execution_count": 39,
     "metadata": {},
     "output_type": "execute_result"
    }
   ],
   "source": [
    "np.sort(df2['seguradora'].unique())"
   ]
  },
  {
   "cell_type": "code",
   "execution_count": 40,
   "metadata": {},
   "outputs": [
    {
     "name": "stdout",
     "output_type": "stream",
     "text": [
      "<class 'pandas.core.frame.DataFrame'>\n",
      "RangeIndex: 220 entries, 0 to 219\n",
      "Data columns (total 4 columns):\n",
      " #   Column       Non-Null Count  Dtype  \n",
      "---  ------       --------------  -----  \n",
      " 0   ano          220 non-null    int64  \n",
      " 1   mes          220 non-null    int64  \n",
      " 2   seguradora   220 non-null    object \n",
      " 3   tot_receita  220 non-null    float64\n",
      "dtypes: float64(1), int64(2), object(1)\n",
      "memory usage: 7.0+ KB\n"
     ]
    }
   ],
   "source": [
    "df2.info()"
   ]
  },
  {
   "cell_type": "code",
   "execution_count": 41,
   "metadata": {},
   "outputs": [
    {
     "data": {
      "text/html": [
       "<div>\n",
       "<style scoped>\n",
       "    .dataframe tbody tr th:only-of-type {\n",
       "        vertical-align: middle;\n",
       "    }\n",
       "\n",
       "    .dataframe tbody tr th {\n",
       "        vertical-align: top;\n",
       "    }\n",
       "\n",
       "    .dataframe thead th {\n",
       "        text-align: right;\n",
       "    }\n",
       "</style>\n",
       "<table border=\"1\" class=\"dataframe\">\n",
       "  <thead>\n",
       "    <tr style=\"text-align: right;\">\n",
       "      <th></th>\n",
       "      <th>ano</th>\n",
       "      <th>mes</th>\n",
       "      <th>seguradora</th>\n",
       "      <th>tot_venda</th>\n",
       "      <th>tot_receita</th>\n",
       "      <th>valor_recebido</th>\n",
       "    </tr>\n",
       "  </thead>\n",
       "  <tbody>\n",
       "    <tr>\n",
       "      <th>0</th>\n",
       "      <td>2019</td>\n",
       "      <td>1</td>\n",
       "      <td>19</td>\n",
       "      <td>635.870</td>\n",
       "      <td>NaN</td>\n",
       "      <td>NaN</td>\n",
       "    </tr>\n",
       "    <tr>\n",
       "      <th>1</th>\n",
       "      <td>2019</td>\n",
       "      <td>1</td>\n",
       "      <td>21</td>\n",
       "      <td>3621.775</td>\n",
       "      <td>3225.780</td>\n",
       "      <td>-395.995</td>\n",
       "    </tr>\n",
       "    <tr>\n",
       "      <th>2</th>\n",
       "      <td>2019</td>\n",
       "      <td>1</td>\n",
       "      <td>23</td>\n",
       "      <td>230.750</td>\n",
       "      <td>110.800</td>\n",
       "      <td>-119.950</td>\n",
       "    </tr>\n",
       "    <tr>\n",
       "      <th>3</th>\n",
       "      <td>2019</td>\n",
       "      <td>1</td>\n",
       "      <td>31</td>\n",
       "      <td>7496.915</td>\n",
       "      <td>NaN</td>\n",
       "      <td>NaN</td>\n",
       "    </tr>\n",
       "    <tr>\n",
       "      <th>4</th>\n",
       "      <td>2019</td>\n",
       "      <td>1</td>\n",
       "      <td>38</td>\n",
       "      <td>1015.500</td>\n",
       "      <td>NaN</td>\n",
       "      <td>NaN</td>\n",
       "    </tr>\n",
       "    <tr>\n",
       "      <th>5</th>\n",
       "      <td>2019</td>\n",
       "      <td>1</td>\n",
       "      <td>43</td>\n",
       "      <td>424.550</td>\n",
       "      <td>NaN</td>\n",
       "      <td>NaN</td>\n",
       "    </tr>\n",
       "    <tr>\n",
       "      <th>6</th>\n",
       "      <td>2019</td>\n",
       "      <td>1</td>\n",
       "      <td>44</td>\n",
       "      <td>18295.420</td>\n",
       "      <td>2283.325</td>\n",
       "      <td>-16012.095</td>\n",
       "    </tr>\n",
       "    <tr>\n",
       "      <th>7</th>\n",
       "      <td>2019</td>\n",
       "      <td>1</td>\n",
       "      <td>55</td>\n",
       "      <td>7550.000</td>\n",
       "      <td>1283.105</td>\n",
       "      <td>-6266.895</td>\n",
       "    </tr>\n",
       "    <tr>\n",
       "      <th>8</th>\n",
       "      <td>2019</td>\n",
       "      <td>1</td>\n",
       "      <td>58</td>\n",
       "      <td>350.350</td>\n",
       "      <td>350.350</td>\n",
       "      <td>0.000</td>\n",
       "    </tr>\n",
       "    <tr>\n",
       "      <th>9</th>\n",
       "      <td>2019</td>\n",
       "      <td>1</td>\n",
       "      <td>64</td>\n",
       "      <td>12595.760</td>\n",
       "      <td>NaN</td>\n",
       "      <td>NaN</td>\n",
       "    </tr>\n",
       "    <tr>\n",
       "      <th>10</th>\n",
       "      <td>2019</td>\n",
       "      <td>1</td>\n",
       "      <td>66</td>\n",
       "      <td>39674.105</td>\n",
       "      <td>3765.565</td>\n",
       "      <td>-35908.540</td>\n",
       "    </tr>\n",
       "    <tr>\n",
       "      <th>11</th>\n",
       "      <td>2019</td>\n",
       "      <td>1</td>\n",
       "      <td>72</td>\n",
       "      <td>247975.820</td>\n",
       "      <td>13213.320</td>\n",
       "      <td>-234762.500</td>\n",
       "    </tr>\n",
       "    <tr>\n",
       "      <th>12</th>\n",
       "      <td>2019</td>\n",
       "      <td>1</td>\n",
       "      <td>78</td>\n",
       "      <td>50.000</td>\n",
       "      <td>NaN</td>\n",
       "      <td>NaN</td>\n",
       "    </tr>\n",
       "    <tr>\n",
       "      <th>13</th>\n",
       "      <td>2019</td>\n",
       "      <td>1</td>\n",
       "      <td>81</td>\n",
       "      <td>2002.635</td>\n",
       "      <td>NaN</td>\n",
       "      <td>NaN</td>\n",
       "    </tr>\n",
       "    <tr>\n",
       "      <th>14</th>\n",
       "      <td>2019</td>\n",
       "      <td>2</td>\n",
       "      <td>13</td>\n",
       "      <td>166.880</td>\n",
       "      <td>NaN</td>\n",
       "      <td>NaN</td>\n",
       "    </tr>\n",
       "    <tr>\n",
       "      <th>15</th>\n",
       "      <td>2019</td>\n",
       "      <td>2</td>\n",
       "      <td>21</td>\n",
       "      <td>2823.675</td>\n",
       "      <td>395.995</td>\n",
       "      <td>-2427.680</td>\n",
       "    </tr>\n",
       "    <tr>\n",
       "      <th>16</th>\n",
       "      <td>2019</td>\n",
       "      <td>2</td>\n",
       "      <td>23</td>\n",
       "      <td>121.870</td>\n",
       "      <td>110.250</td>\n",
       "      <td>-11.620</td>\n",
       "    </tr>\n",
       "    <tr>\n",
       "      <th>17</th>\n",
       "      <td>2019</td>\n",
       "      <td>2</td>\n",
       "      <td>31</td>\n",
       "      <td>26550.560</td>\n",
       "      <td>3398.360</td>\n",
       "      <td>-23152.200</td>\n",
       "    </tr>\n",
       "    <tr>\n",
       "      <th>18</th>\n",
       "      <td>2019</td>\n",
       "      <td>2</td>\n",
       "      <td>42</td>\n",
       "      <td>101.800</td>\n",
       "      <td>NaN</td>\n",
       "      <td>NaN</td>\n",
       "    </tr>\n",
       "    <tr>\n",
       "      <th>19</th>\n",
       "      <td>2019</td>\n",
       "      <td>2</td>\n",
       "      <td>44</td>\n",
       "      <td>6540.570</td>\n",
       "      <td>7830.405</td>\n",
       "      <td>1289.835</td>\n",
       "    </tr>\n",
       "    <tr>\n",
       "      <th>20</th>\n",
       "      <td>2019</td>\n",
       "      <td>2</td>\n",
       "      <td>55</td>\n",
       "      <td>823.910</td>\n",
       "      <td>NaN</td>\n",
       "      <td>NaN</td>\n",
       "    </tr>\n",
       "    <tr>\n",
       "      <th>21</th>\n",
       "      <td>2019</td>\n",
       "      <td>2</td>\n",
       "      <td>58</td>\n",
       "      <td>350.350</td>\n",
       "      <td>200.140</td>\n",
       "      <td>-150.210</td>\n",
       "    </tr>\n",
       "    <tr>\n",
       "      <th>22</th>\n",
       "      <td>2019</td>\n",
       "      <td>2</td>\n",
       "      <td>64</td>\n",
       "      <td>179.230</td>\n",
       "      <td>226.330</td>\n",
       "      <td>47.100</td>\n",
       "    </tr>\n",
       "    <tr>\n",
       "      <th>23</th>\n",
       "      <td>2019</td>\n",
       "      <td>2</td>\n",
       "      <td>66</td>\n",
       "      <td>44677.545</td>\n",
       "      <td>13606.305</td>\n",
       "      <td>-31071.240</td>\n",
       "    </tr>\n",
       "    <tr>\n",
       "      <th>24</th>\n",
       "      <td>2019</td>\n",
       "      <td>2</td>\n",
       "      <td>72</td>\n",
       "      <td>303668.280</td>\n",
       "      <td>149872.935</td>\n",
       "      <td>-153795.345</td>\n",
       "    </tr>\n",
       "    <tr>\n",
       "      <th>25</th>\n",
       "      <td>2019</td>\n",
       "      <td>2</td>\n",
       "      <td>75</td>\n",
       "      <td>50.000</td>\n",
       "      <td>NaN</td>\n",
       "      <td>NaN</td>\n",
       "    </tr>\n",
       "    <tr>\n",
       "      <th>26</th>\n",
       "      <td>2019</td>\n",
       "      <td>2</td>\n",
       "      <td>78</td>\n",
       "      <td>50.000</td>\n",
       "      <td>NaN</td>\n",
       "      <td>NaN</td>\n",
       "    </tr>\n",
       "    <tr>\n",
       "      <th>27</th>\n",
       "      <td>2019</td>\n",
       "      <td>2</td>\n",
       "      <td>81</td>\n",
       "      <td>0.000</td>\n",
       "      <td>NaN</td>\n",
       "      <td>NaN</td>\n",
       "    </tr>\n",
       "    <tr>\n",
       "      <th>28</th>\n",
       "      <td>2019</td>\n",
       "      <td>2</td>\n",
       "      <td>83</td>\n",
       "      <td>81.070</td>\n",
       "      <td>NaN</td>\n",
       "      <td>NaN</td>\n",
       "    </tr>\n",
       "    <tr>\n",
       "      <th>29</th>\n",
       "      <td>2019</td>\n",
       "      <td>3</td>\n",
       "      <td>19</td>\n",
       "      <td>5626.890</td>\n",
       "      <td>NaN</td>\n",
       "      <td>NaN</td>\n",
       "    </tr>\n",
       "    <tr>\n",
       "      <th>30</th>\n",
       "      <td>2019</td>\n",
       "      <td>3</td>\n",
       "      <td>21</td>\n",
       "      <td>4352.760</td>\n",
       "      <td>6905.500</td>\n",
       "      <td>2552.740</td>\n",
       "    </tr>\n",
       "    <tr>\n",
       "      <th>31</th>\n",
       "      <td>2019</td>\n",
       "      <td>3</td>\n",
       "      <td>23</td>\n",
       "      <td>1752.605</td>\n",
       "      <td>110.250</td>\n",
       "      <td>-1642.355</td>\n",
       "    </tr>\n",
       "    <tr>\n",
       "      <th>32</th>\n",
       "      <td>2019</td>\n",
       "      <td>3</td>\n",
       "      <td>31</td>\n",
       "      <td>657.770</td>\n",
       "      <td>6167.430</td>\n",
       "      <td>5509.660</td>\n",
       "    </tr>\n",
       "    <tr>\n",
       "      <th>33</th>\n",
       "      <td>2019</td>\n",
       "      <td>3</td>\n",
       "      <td>44</td>\n",
       "      <td>9568.965</td>\n",
       "      <td>5185.795</td>\n",
       "      <td>-4383.170</td>\n",
       "    </tr>\n",
       "    <tr>\n",
       "      <th>34</th>\n",
       "      <td>2019</td>\n",
       "      <td>3</td>\n",
       "      <td>55</td>\n",
       "      <td>2395.345</td>\n",
       "      <td>823.910</td>\n",
       "      <td>-1571.435</td>\n",
       "    </tr>\n",
       "    <tr>\n",
       "      <th>35</th>\n",
       "      <td>2019</td>\n",
       "      <td>3</td>\n",
       "      <td>58</td>\n",
       "      <td>219.240</td>\n",
       "      <td>200.140</td>\n",
       "      <td>-19.100</td>\n",
       "    </tr>\n",
       "    <tr>\n",
       "      <th>36</th>\n",
       "      <td>2019</td>\n",
       "      <td>3</td>\n",
       "      <td>64</td>\n",
       "      <td>90.400</td>\n",
       "      <td>179.230</td>\n",
       "      <td>88.830</td>\n",
       "    </tr>\n",
       "    <tr>\n",
       "      <th>37</th>\n",
       "      <td>2019</td>\n",
       "      <td>3</td>\n",
       "      <td>66</td>\n",
       "      <td>21999.060</td>\n",
       "      <td>23226.020</td>\n",
       "      <td>1226.960</td>\n",
       "    </tr>\n",
       "    <tr>\n",
       "      <th>38</th>\n",
       "      <td>2019</td>\n",
       "      <td>3</td>\n",
       "      <td>72</td>\n",
       "      <td>130804.115</td>\n",
       "      <td>125751.475</td>\n",
       "      <td>-5052.640</td>\n",
       "    </tr>\n",
       "    <tr>\n",
       "      <th>39</th>\n",
       "      <td>2019</td>\n",
       "      <td>3</td>\n",
       "      <td>74</td>\n",
       "      <td>3254.750</td>\n",
       "      <td>NaN</td>\n",
       "      <td>NaN</td>\n",
       "    </tr>\n",
       "    <tr>\n",
       "      <th>40</th>\n",
       "      <td>2019</td>\n",
       "      <td>3</td>\n",
       "      <td>78</td>\n",
       "      <td>50.000</td>\n",
       "      <td>NaN</td>\n",
       "      <td>NaN</td>\n",
       "    </tr>\n",
       "    <tr>\n",
       "      <th>41</th>\n",
       "      <td>2019</td>\n",
       "      <td>3</td>\n",
       "      <td>81</td>\n",
       "      <td>1222.500</td>\n",
       "      <td>2105.335</td>\n",
       "      <td>882.835</td>\n",
       "    </tr>\n",
       "    <tr>\n",
       "      <th>42</th>\n",
       "      <td>2019</td>\n",
       "      <td>3</td>\n",
       "      <td>83</td>\n",
       "      <td>188.435</td>\n",
       "      <td>57.770</td>\n",
       "      <td>-130.665</td>\n",
       "    </tr>\n",
       "    <tr>\n",
       "      <th>43</th>\n",
       "      <td>2019</td>\n",
       "      <td>4</td>\n",
       "      <td>13</td>\n",
       "      <td>322.520</td>\n",
       "      <td>NaN</td>\n",
       "      <td>NaN</td>\n",
       "    </tr>\n",
       "    <tr>\n",
       "      <th>44</th>\n",
       "      <td>2019</td>\n",
       "      <td>4</td>\n",
       "      <td>21</td>\n",
       "      <td>2376.280</td>\n",
       "      <td>1045.970</td>\n",
       "      <td>-1330.310</td>\n",
       "    </tr>\n",
       "    <tr>\n",
       "      <th>45</th>\n",
       "      <td>2019</td>\n",
       "      <td>4</td>\n",
       "      <td>23</td>\n",
       "      <td>1202.020</td>\n",
       "      <td>350.740</td>\n",
       "      <td>-851.280</td>\n",
       "    </tr>\n",
       "    <tr>\n",
       "      <th>46</th>\n",
       "      <td>2019</td>\n",
       "      <td>4</td>\n",
       "      <td>31</td>\n",
       "      <td>8333.900</td>\n",
       "      <td>5974.210</td>\n",
       "      <td>-2359.690</td>\n",
       "    </tr>\n",
       "    <tr>\n",
       "      <th>47</th>\n",
       "      <td>2019</td>\n",
       "      <td>4</td>\n",
       "      <td>33</td>\n",
       "      <td>163.755</td>\n",
       "      <td>NaN</td>\n",
       "      <td>NaN</td>\n",
       "    </tr>\n",
       "    <tr>\n",
       "      <th>48</th>\n",
       "      <td>2019</td>\n",
       "      <td>4</td>\n",
       "      <td>42</td>\n",
       "      <td>234.005</td>\n",
       "      <td>NaN</td>\n",
       "      <td>NaN</td>\n",
       "    </tr>\n",
       "    <tr>\n",
       "      <th>49</th>\n",
       "      <td>2019</td>\n",
       "      <td>4</td>\n",
       "      <td>43</td>\n",
       "      <td>68.640</td>\n",
       "      <td>79.255</td>\n",
       "      <td>10.615</td>\n",
       "    </tr>\n",
       "  </tbody>\n",
       "</table>\n",
       "</div>"
      ],
      "text/plain": [
       "     ano  mes seguradora   tot_venda  tot_receita  valor_recebido\n",
       "0   2019    1         19     635.870          NaN             NaN\n",
       "1   2019    1         21    3621.775     3225.780        -395.995\n",
       "2   2019    1         23     230.750      110.800        -119.950\n",
       "3   2019    1         31    7496.915          NaN             NaN\n",
       "4   2019    1         38    1015.500          NaN             NaN\n",
       "5   2019    1         43     424.550          NaN             NaN\n",
       "6   2019    1         44   18295.420     2283.325      -16012.095\n",
       "7   2019    1         55    7550.000     1283.105       -6266.895\n",
       "8   2019    1         58     350.350      350.350           0.000\n",
       "9   2019    1         64   12595.760          NaN             NaN\n",
       "10  2019    1         66   39674.105     3765.565      -35908.540\n",
       "11  2019    1         72  247975.820    13213.320     -234762.500\n",
       "12  2019    1         78      50.000          NaN             NaN\n",
       "13  2019    1         81    2002.635          NaN             NaN\n",
       "14  2019    2         13     166.880          NaN             NaN\n",
       "15  2019    2         21    2823.675      395.995       -2427.680\n",
       "16  2019    2         23     121.870      110.250         -11.620\n",
       "17  2019    2         31   26550.560     3398.360      -23152.200\n",
       "18  2019    2         42     101.800          NaN             NaN\n",
       "19  2019    2         44    6540.570     7830.405        1289.835\n",
       "20  2019    2         55     823.910          NaN             NaN\n",
       "21  2019    2         58     350.350      200.140        -150.210\n",
       "22  2019    2         64     179.230      226.330          47.100\n",
       "23  2019    2         66   44677.545    13606.305      -31071.240\n",
       "24  2019    2         72  303668.280   149872.935     -153795.345\n",
       "25  2019    2         75      50.000          NaN             NaN\n",
       "26  2019    2         78      50.000          NaN             NaN\n",
       "27  2019    2         81       0.000          NaN             NaN\n",
       "28  2019    2         83      81.070          NaN             NaN\n",
       "29  2019    3         19    5626.890          NaN             NaN\n",
       "30  2019    3         21    4352.760     6905.500        2552.740\n",
       "31  2019    3         23    1752.605      110.250       -1642.355\n",
       "32  2019    3         31     657.770     6167.430        5509.660\n",
       "33  2019    3         44    9568.965     5185.795       -4383.170\n",
       "34  2019    3         55    2395.345      823.910       -1571.435\n",
       "35  2019    3         58     219.240      200.140         -19.100\n",
       "36  2019    3         64      90.400      179.230          88.830\n",
       "37  2019    3         66   21999.060    23226.020        1226.960\n",
       "38  2019    3         72  130804.115   125751.475       -5052.640\n",
       "39  2019    3         74    3254.750          NaN             NaN\n",
       "40  2019    3         78      50.000          NaN             NaN\n",
       "41  2019    3         81    1222.500     2105.335         882.835\n",
       "42  2019    3         83     188.435       57.770        -130.665\n",
       "43  2019    4         13     322.520          NaN             NaN\n",
       "44  2019    4         21    2376.280     1045.970       -1330.310\n",
       "45  2019    4         23    1202.020      350.740        -851.280\n",
       "46  2019    4         31    8333.900     5974.210       -2359.690\n",
       "47  2019    4         33     163.755          NaN             NaN\n",
       "48  2019    4         42     234.005          NaN             NaN\n",
       "49  2019    4         43      68.640       79.255          10.615"
      ]
     },
     "execution_count": 41,
     "metadata": {},
     "output_type": "execute_result"
    }
   ],
   "source": [
    "df_inadimplente = df1.merge(df2, how='left', on=['ano', 'mes', 'seguradora'])\n",
    "df_inadimplente['valor_recebido'] = df_inadimplente['tot_receita'] - df_inadimplente['tot_venda']\n",
    "df_inadimplente.head(50)"
   ]
  },
  {
   "cell_type": "code",
   "execution_count": 42,
   "metadata": {},
   "outputs": [
    {
     "data": {
      "text/plain": [
       "mes\n",
       "1      4\n",
       "2      9\n",
       "3     11\n",
       "4      8\n",
       "5     10\n",
       "6      8\n",
       "7      6\n",
       "8      4\n",
       "9      6\n",
       "10     5\n",
       "11     6\n",
       "12     7\n",
       "Name: count, dtype: int64"
      ]
     },
     "execution_count": 42,
     "metadata": {},
     "output_type": "execute_result"
    }
   ],
   "source": [
    "df_inadimplente[df_inadimplente['valor_recebido']>0]['mes'].value_counts().sort_index(ascending=True)"
   ]
  },
  {
   "cell_type": "code",
   "execution_count": 43,
   "metadata": {},
   "outputs": [
    {
     "data": {
      "text/plain": [
       "mes\n",
       "1     11\n",
       "2      8\n",
       "3     10\n",
       "4     11\n",
       "5      8\n",
       "6     13\n",
       "7      5\n",
       "8      7\n",
       "9      2\n",
       "10     4\n",
       "11     7\n",
       "12     4\n",
       "Name: count, dtype: int64"
      ]
     },
     "execution_count": 43,
     "metadata": {},
     "output_type": "execute_result"
    }
   ],
   "source": [
    "df_inadimplente[df_inadimplente['valor_recebido']<0]['mes'].value_counts().sort_index(ascending=True)"
   ]
  },
  {
   "attachments": {},
   "cell_type": "markdown",
   "metadata": {},
   "source": [
    "# Exportando dados"
   ]
  },
  {
   "attachments": {},
   "cell_type": "markdown",
   "metadata": {},
   "source": [
    "## Dados de vendas"
   ]
  },
  {
   "cell_type": "code",
   "execution_count": 44,
   "metadata": {},
   "outputs": [],
   "source": [
    "df_venda.to_csv(r\"./data/df_venda.csv\", sep=';', decimal=',')"
   ]
  },
  {
   "cell_type": "code",
   "execution_count": 45,
   "metadata": {},
   "outputs": [
    {
     "data": {
      "text/plain": [
       "2605059423.45"
      ]
     },
     "execution_count": 45,
     "metadata": {},
     "output_type": "execute_result"
    }
   ],
   "source": [
    "valor1 = df_venda[df_venda['ano']==2019]['venda'].sum()\n",
    "valor2 = df_venda[df_venda['ano']==2019]['tot_apolices'].sum()\n",
    "valor1*valor2"
   ]
  },
  {
   "cell_type": "code",
   "execution_count": 35,
   "metadata": {},
   "outputs": [],
   "source": [
    "df_venda['total_venda'] = df_venda['tot_apolices']*df_venda['venda']"
   ]
  },
  {
   "attachments": {},
   "cell_type": "markdown",
   "metadata": {},
   "source": [
    "## Dados de receita"
   ]
  },
  {
   "cell_type": "code",
   "execution_count": 36,
   "metadata": {},
   "outputs": [
    {
     "data": {
      "text/html": [
       "<div>\n",
       "<style scoped>\n",
       "    .dataframe tbody tr th:only-of-type {\n",
       "        vertical-align: middle;\n",
       "    }\n",
       "\n",
       "    .dataframe tbody tr th {\n",
       "        vertical-align: top;\n",
       "    }\n",
       "\n",
       "    .dataframe thead th {\n",
       "        text-align: right;\n",
       "    }\n",
       "</style>\n",
       "<table border=\"1\" class=\"dataframe\">\n",
       "  <thead>\n",
       "    <tr style=\"text-align: right;\">\n",
       "      <th></th>\n",
       "      <th>ano</th>\n",
       "      <th>mes</th>\n",
       "      <th>seguradora</th>\n",
       "      <th>vendedor</th>\n",
       "      <th>tot_apolices</th>\n",
       "      <th>receita</th>\n",
       "      <th>tot_receita</th>\n",
       "      <th>month_name</th>\n",
       "    </tr>\n",
       "  </thead>\n",
       "  <tbody>\n",
       "    <tr>\n",
       "      <th>0</th>\n",
       "      <td>2019</td>\n",
       "      <td>1</td>\n",
       "      <td>72</td>\n",
       "      <td>58</td>\n",
       "      <td>1</td>\n",
       "      <td>65.300</td>\n",
       "      <td>65.300</td>\n",
       "      <td>January</td>\n",
       "    </tr>\n",
       "    <tr>\n",
       "      <th>1</th>\n",
       "      <td>2019</td>\n",
       "      <td>1</td>\n",
       "      <td>72</td>\n",
       "      <td>57</td>\n",
       "      <td>4</td>\n",
       "      <td>1360.235</td>\n",
       "      <td>5440.940</td>\n",
       "      <td>January</td>\n",
       "    </tr>\n",
       "    <tr>\n",
       "      <th>2</th>\n",
       "      <td>2019</td>\n",
       "      <td>1</td>\n",
       "      <td>72</td>\n",
       "      <td>56</td>\n",
       "      <td>3</td>\n",
       "      <td>276.490</td>\n",
       "      <td>829.470</td>\n",
       "      <td>January</td>\n",
       "    </tr>\n",
       "    <tr>\n",
       "      <th>3</th>\n",
       "      <td>2019</td>\n",
       "      <td>1</td>\n",
       "      <td>72</td>\n",
       "      <td>47</td>\n",
       "      <td>2</td>\n",
       "      <td>-1707.095</td>\n",
       "      <td>-3414.190</td>\n",
       "      <td>January</td>\n",
       "    </tr>\n",
       "    <tr>\n",
       "      <th>4</th>\n",
       "      <td>2019</td>\n",
       "      <td>1</td>\n",
       "      <td>72</td>\n",
       "      <td>38</td>\n",
       "      <td>3</td>\n",
       "      <td>1080.745</td>\n",
       "      <td>3242.235</td>\n",
       "      <td>January</td>\n",
       "    </tr>\n",
       "  </tbody>\n",
       "</table>\n",
       "</div>"
      ],
      "text/plain": [
       "    ano  mes  seguradora vendedor  tot_apolices   receita  tot_receita   \n",
       "0  2019    1          72       58             1    65.300       65.300  \\\n",
       "1  2019    1          72       57             4  1360.235     5440.940   \n",
       "2  2019    1          72       56             3   276.490      829.470   \n",
       "3  2019    1          72       47             2 -1707.095    -3414.190   \n",
       "4  2019    1          72       38             3  1080.745     3242.235   \n",
       "\n",
       "  month_name  \n",
       "0    January  \n",
       "1    January  \n",
       "2    January  \n",
       "3    January  \n",
       "4    January  "
      ]
     },
     "execution_count": 36,
     "metadata": {},
     "output_type": "execute_result"
    }
   ],
   "source": [
    "df_receita.head()"
   ]
  },
  {
   "cell_type": "code",
   "execution_count": 37,
   "metadata": {},
   "outputs": [],
   "source": [
    "df_receita.to_csv(r\"./data/df_receita.csv\", sep=';', decimal=',')"
   ]
  },
  {
   "attachments": {},
   "cell_type": "markdown",
   "metadata": {},
   "source": [
    "# Modelagem"
   ]
  },
  {
   "cell_type": "code",
   "execution_count": 53,
   "metadata": {},
   "outputs": [
    {
     "name": "stdout",
     "output_type": "stream",
     "text": [
      "<class 'pandas.core.frame.DataFrame'>\n",
      "RangeIndex: 1242 entries, 0 to 1241\n",
      "Data columns (total 8 columns):\n",
      " #   Column        Non-Null Count  Dtype  \n",
      "---  ------        --------------  -----  \n",
      " 0   ano           1242 non-null   int64  \n",
      " 1   mes           1242 non-null   int64  \n",
      " 2   seguradora    1242 non-null   object \n",
      " 3   vendedor      1242 non-null   object \n",
      " 4   tot_apolices  1242 non-null   int64  \n",
      " 5   venda         1242 non-null   float64\n",
      " 6   tot_venda     1242 non-null   float64\n",
      " 7   month_name    1242 non-null   object \n",
      "dtypes: float64(2), int64(3), object(3)\n",
      "memory usage: 77.8+ KB\n"
     ]
    }
   ],
   "source": [
    "df_venda.info()"
   ]
  },
  {
   "cell_type": "code",
   "execution_count": 55,
   "metadata": {},
   "outputs": [
    {
     "name": "stdout",
     "output_type": "stream",
     "text": [
      "Tamanho do conjunto de treinamento: 869\n",
      "Tamanho do conjunto de teste: 373\n"
     ]
    }
   ],
   "source": [
    "\n",
    "# Definir o dataframe df_venda\n",
    "df = df_venda.drop(['month_name'], axis=1)\n",
    "df['seguradora'] = df['seguradora'].astype('int64')\n",
    "df['vendedor'] = df['vendedor'].astype('int64')\n",
    "\n",
    "\n",
    "# Separar o dataframe em features (X) e target (y)\n",
    "X = df.drop('tot_venda', axis=1)\n",
    "y = df['tot_venda']\n",
    "\n",
    "# Separar em conjuntos de treinamento e teste\n",
    "X_treino, X_teste, y_treino, y_teste = train_test_split(X, y, test_size=0.3, random_state=42)\n",
    "\n",
    "# Verificar os tamanhos dos conjuntos resultantes\n",
    "print(\"Tamanho do conjunto de treinamento:\", len(X_treino))\n",
    "print(\"Tamanho do conjunto de teste:\", len(X_teste))\n"
   ]
  },
  {
   "cell_type": "code",
   "execution_count": 56,
   "metadata": {},
   "outputs": [
    {
     "name": "stdout",
     "output_type": "stream",
     "text": [
      "RMSE: 30113.65320199372\n"
     ]
    }
   ],
   "source": [
    "# Criar uma instância do modelo de regressão linear\n",
    "modelo = LinearRegression()\n",
    "\n",
    "# Treinar o modelo com os dados de treinamento\n",
    "modelo.fit(X_treino, y_treino)\n",
    "\n",
    "# Fazer previsões com o conjunto de teste\n",
    "y_pred = modelo.predict(X_teste)\n",
    "\n",
    "# Calcular o erro médio quadrático (RMSE) das previsões\n",
    "rmse = mean_squared_error(y_teste, y_pred, squared=False)\n",
    "\n",
    "# Imprimir o RMSE\n",
    "print(\"RMSE:\", rmse)\n"
   ]
  },
  {
   "cell_type": "code",
   "execution_count": 61,
   "metadata": {},
   "outputs": [
    {
     "data": {
      "image/png": "[encoded data removed]",
      "text/plain": [
       "<Figure size 600x600 with 1 Axes>"
      ]
     },
     "metadata": {},
     "output_type": "display_data"
    }
   ],
   "source": [
    "\n",
    "\n",
    "# Criar um DataFrame com as previsões e os valores reais\n",
    "df_pred = pd.DataFrame({'y_teste': y_teste, 'y_pred': y_pred})\n",
    "\n",
    "# Plotar o gráfico com a regressão linear\n",
    "sns.lmplot(x='y_teste', y='y_pred', data=df_pred, height=6, line_kws={'color': 'red'}, ci=None)\n",
    "plt.title('Regressão Linear - Valores Reais vs. Previsões')\n",
    "plt.xlabel('Valores Reais')\n",
    "plt.ylabel('Previsões')\n",
    "plt.show()\n"
   ]
  },
  {
   "attachments": {},
   "cell_type": "markdown",
   "metadata": {},
   "source": [
    "## julho a dezembro 2020"
   ]
  },
  {
   "cell_type": "code",
   "execution_count": 63,
   "metadata": {},
   "outputs": [
    {
     "data": {
      "text/html": [
       "<div>\n",
       "<style scoped>\n",
       "    .dataframe tbody tr th:only-of-type {\n",
       "        vertical-align: middle;\n",
       "    }\n",
       "\n",
       "    .dataframe tbody tr th {\n",
       "        vertical-align: top;\n",
       "    }\n",
       "\n",
       "    .dataframe thead th {\n",
       "        text-align: right;\n",
       "    }\n",
       "</style>\n",
       "<table border=\"1\" class=\"dataframe\">\n",
       "  <thead>\n",
       "    <tr style=\"text-align: right;\">\n",
       "      <th></th>\n",
       "      <th>ano</th>\n",
       "      <th>mes</th>\n",
       "      <th>seguradora</th>\n",
       "      <th>vendedor</th>\n",
       "      <th>tot_apolices</th>\n",
       "      <th>venda</th>\n",
       "      <th>tot_venda</th>\n",
       "    </tr>\n",
       "  </thead>\n",
       "  <tbody>\n",
       "    <tr>\n",
       "      <th>0</th>\n",
       "      <td>2019</td>\n",
       "      <td>1</td>\n",
       "      <td>66</td>\n",
       "      <td>1</td>\n",
       "      <td>1</td>\n",
       "      <td>174.055</td>\n",
       "      <td>174.055</td>\n",
       "    </tr>\n",
       "    <tr>\n",
       "      <th>1</th>\n",
       "      <td>2019</td>\n",
       "      <td>1</td>\n",
       "      <td>31</td>\n",
       "      <td>58</td>\n",
       "      <td>1</td>\n",
       "      <td>92.310</td>\n",
       "      <td>92.310</td>\n",
       "    </tr>\n",
       "    <tr>\n",
       "      <th>2</th>\n",
       "      <td>2019</td>\n",
       "      <td>1</td>\n",
       "      <td>72</td>\n",
       "      <td>35</td>\n",
       "      <td>6</td>\n",
       "      <td>900.080</td>\n",
       "      <td>5400.480</td>\n",
       "    </tr>\n",
       "    <tr>\n",
       "      <th>3</th>\n",
       "      <td>2019</td>\n",
       "      <td>1</td>\n",
       "      <td>55</td>\n",
       "      <td>20</td>\n",
       "      <td>1</td>\n",
       "      <td>7550.000</td>\n",
       "      <td>7550.000</td>\n",
       "    </tr>\n",
       "    <tr>\n",
       "      <th>4</th>\n",
       "      <td>2019</td>\n",
       "      <td>1</td>\n",
       "      <td>72</td>\n",
       "      <td>58</td>\n",
       "      <td>2</td>\n",
       "      <td>84.175</td>\n",
       "      <td>168.350</td>\n",
       "    </tr>\n",
       "  </tbody>\n",
       "</table>\n",
       "</div>"
      ],
      "text/plain": [
       "    ano  mes  seguradora  vendedor  tot_apolices     venda  tot_venda\n",
       "0  2019    1          66         1             1   174.055    174.055\n",
       "1  2019    1          31        58             1    92.310     92.310\n",
       "2  2019    1          72        35             6   900.080   5400.480\n",
       "3  2019    1          55        20             1  7550.000   7550.000\n",
       "4  2019    1          72        58             2    84.175    168.350"
      ]
     },
     "execution_count": 63,
     "metadata": {},
     "output_type": "execute_result"
    }
   ],
   "source": [
    "df.head()"
   ]
  },
  {
   "cell_type": "code",
   "execution_count": 65,
   "metadata": {},
   "outputs": [
    {
     "data": {
      "text/plain": [
       "array([ 5.72853022e+03,  3.05128270e+04, -5.70771518e+03, -3.13716276e+03,\n",
       "       -1.49493736e+03,  1.36193887e+03,  3.79559208e+04,  6.16345193e+03,\n",
       "        4.51976142e+03,  1.12019023e+04, -1.43458954e+03, -6.11963825e+03,\n",
       "        3.00429556e+04, -1.28059289e+03,  3.08892163e+04, -3.86897063e+03,\n",
       "        6.43567410e+03, -4.43735910e+03, -2.71512502e+03, -1.39768141e+03,\n",
       "       -4.70883708e+03,  2.59698980e+03,  2.67952878e+03,  2.28136043e+04,\n",
       "       -1.07366033e+02,  3.22118478e+02, -2.05693007e+03,  5.45493625e+02,\n",
       "        1.41683450e+04, -2.34417117e+03,  5.86702084e+04,  7.39641436e+03,\n",
       "       -1.71610678e+03,  3.38560063e+04,  1.54472460e+05,  1.30489215e+04,\n",
       "       -3.85707896e+03,  2.02590878e+03,  9.89893586e+03,  2.52167925e+04,\n",
       "       -2.61102678e+03,  3.50300307e+04, -5.91368330e+03,  8.22459887e+03,\n",
       "        6.87520696e+03, -1.52511628e+03,  3.33444155e+03,  4.50950218e+04,\n",
       "        2.92146684e+04,  2.65476095e+04,  3.15107538e+03, -2.68043229e+03,\n",
       "        5.40917687e+03, -2.26677195e+03, -6.08068983e+02,  7.28638489e+03,\n",
       "       -1.23796704e+03, -5.28982446e+01, -2.48420595e+01,  8.17792273e+03,\n",
       "       -1.30618165e+03,  1.58284794e+02,  5.88177960e+03, -4.78527096e+02,\n",
       "        8.27317409e+02,  3.11998774e+04, -2.34459597e+03,  1.48278633e+04,\n",
       "       -3.17817663e+03, -2.17825690e+03,  1.75140139e+03, -1.54990332e+03,\n",
       "       -3.75130451e+03,  1.21217126e+04,  6.33759135e+05, -4.16868867e+03,\n",
       "       -1.60020938e+03,  4.66723127e+02, -5.05964036e+03, -3.26866373e+03,\n",
       "        2.24234458e+05, -2.14097294e+03, -2.17410107e+03, -5.31551078e+03,\n",
       "       -3.01356546e+03,  8.77797929e+03, -2.51911822e+03,  1.49768808e+05,\n",
       "        2.49902494e+03,  1.11624078e+04,  1.24000208e+04,  1.11074169e+04,\n",
       "       -2.91654438e+03,  1.00969467e+02,  1.83004258e+04, -5.84807740e+03,\n",
       "       -2.05124149e+03, -2.64322447e+03, -6.71996449e+03, -2.60364634e+03,\n",
       "       -3.49919381e+03,  3.45565282e+03,  1.01167620e+04,  7.50839390e+01,\n",
       "        4.09166362e+03,  8.70282871e+03,  1.24132993e+04, -9.95376862e+02,\n",
       "       -3.16663460e+03,  1.58118110e+04,  7.56326397e+04, -6.37372953e+03,\n",
       "        8.24849083e+03, -2.17883338e+03,  1.89714602e+04, -2.06754219e+02,\n",
       "        4.00447258e+02, -5.93195903e+03, -6.45801033e+03,  8.45344671e+03,\n",
       "        1.29790745e+03, -1.77561425e+03,  5.64819341e+03, -2.37465430e+02,\n",
       "       -4.12444603e+03, -3.42804267e+03, -2.94259557e+03,  1.42348917e+04,\n",
       "        7.91990222e+02,  1.87753457e+04,  1.36905957e+04,  1.40099597e+03,\n",
       "        5.42114301e+03, -2.88588323e+02,  1.47448829e+04, -5.33972576e+03,\n",
       "       -1.80392517e+03, -5.11275601e+03, -4.21977233e+03, -2.13653955e+03,\n",
       "        3.76460642e+04,  3.71140243e+04,  4.70786001e+04,  4.70635207e+03,\n",
       "        1.68547203e+03, -7.24316197e+02, -4.69795434e+03,  2.56191307e+02,\n",
       "        2.62366407e+02,  2.05959014e+04, -2.08928898e+03,  3.23389554e+04,\n",
       "        7.54445774e+03, -5.44469149e+03,  6.35444658e+03,  6.85206974e+02,\n",
       "        5.33891989e+03, -3.73636303e+03,  7.85552737e+00,  2.35305036e+03,\n",
       "        4.76101019e+03,  1.76237805e+05,  2.43192034e+03, -6.28676701e+03,\n",
       "        5.44565007e+03, -5.83874844e+03,  1.12502574e+04,  1.14592149e+04,\n",
       "       -2.81927509e+03, -9.62157735e+02, -4.65372106e+03, -1.93104208e+03,\n",
       "        7.37026433e+03,  5.31872605e+04,  2.23066101e+03,  5.91472987e+03,\n",
       "       -3.10533294e+03,  2.71664289e+04,  9.25365881e+04,  1.76598545e+04,\n",
       "       -5.92553550e+03,  4.74648553e+02, -3.12993314e+03,  2.45428338e+03,\n",
       "        1.01219484e+03,  8.71311755e+01,  3.42384613e+03, -3.65892349e+03,\n",
       "       -2.39835256e+03, -4.13862498e+03,  7.21949494e+03,  1.56731469e+03,\n",
       "        4.40795864e+03, -4.51946067e+03,  2.28598266e+02,  8.85772463e+04,\n",
       "       -1.81163463e+03,  1.09228712e+03, -4.61976149e+03, -2.52725759e+03,\n",
       "        3.75074033e+03, -4.31321790e+03, -2.55242949e+03,  5.17525609e+03,\n",
       "        2.35540318e+04, -4.92793597e+03,  1.70849328e+04,  3.53413406e+03,\n",
       "        7.25789363e+03,  1.09237786e+04, -3.38412495e+03, -3.31137896e+03,\n",
       "        9.45477497e+03, -5.25699465e+03, -3.20656312e+03,  3.15251953e+03,\n",
       "        1.22485989e+04, -4.42455290e+03, -4.30269188e+03,  2.62354654e+03,\n",
       "       -2.98906640e+03, -4.83123564e+03,  5.56454360e+03,  1.25247042e+04,\n",
       "        8.30659486e+03,  1.14147482e+04, -3.15885472e+03, -5.12017307e+03,\n",
       "        1.07265171e+04,  4.77114177e+02,  9.18154157e+03, -5.66084565e+03,\n",
       "        3.72661327e+04, -1.24249733e+03,  3.32523926e+04, -3.58544099e+03,\n",
       "       -2.62895940e+03, -2.03377930e+03,  2.67015246e+04,  4.20205851e+03,\n",
       "        2.19810590e+04, -5.87493953e+03, -1.80440487e+03,  2.44646220e+04,\n",
       "        1.79636905e+04,  2.30653466e+03,  5.82982704e+04,  5.20039357e+03,\n",
       "       -5.74062642e+03,  2.97624380e+03,  4.16207380e+03,  3.77399300e+04,\n",
       "        1.26081685e+03, -2.11905575e+03,  1.89891419e+04, -3.68655422e+03,\n",
       "        4.25459392e+03,  1.10040799e+03, -1.02128096e+03,  3.26183453e+03,\n",
       "       -3.65840896e+03, -8.50475987e+03,  4.82364923e+02,  6.17153267e+03,\n",
       "        3.48214119e+03,  9.93259746e+04,  1.35770064e+04, -3.19076301e+03,\n",
       "        1.13828924e+04,  1.11322680e+04, -8.48348329e+02,  4.38123970e+03,\n",
       "       -4.93383820e+02,  4.15359459e+04,  3.54676279e+01,  4.32887071e+03,\n",
       "        3.25127823e+04, -4.89451653e+03, -1.52635615e+01, -4.10441525e+03,\n",
       "       -4.33635971e+03,  1.47676040e+03,  1.76393593e+04, -4.66790244e+03,\n",
       "        5.33301835e+03,  1.01999048e+03,  8.32992080e+04, -5.50800160e+03,\n",
       "       -1.79995037e+03,  8.24599866e+03, -5.90942175e+03,  3.67933302e+03,\n",
       "        5.03276337e+04,  6.65678875e+03,  2.23121202e+03,  6.82505408e+03,\n",
       "        3.66039506e+03, -6.31089501e+03,  2.17289618e+04,  2.48367980e+03,\n",
       "       -4.20159060e+03,  4.69668789e+03,  6.00393032e+02,  4.23872413e+03,\n",
       "       -6.12410858e+03, -1.71567465e+03, -3.94504024e+03,  2.37022142e+03,\n",
       "        1.38378623e+03,  7.70504085e+03, -7.03857641e+03, -2.67572336e+03,\n",
       "       -2.24801986e+03, -6.53926159e+03,  1.82530586e+04, -5.78913351e+03,\n",
       "       -2.33416690e+03, -4.90852714e+03, -5.95312506e+03,  2.89248103e+03,\n",
       "       -3.17116272e+03,  4.04931610e+03,  2.61647571e+03, -6.87161575e+03,\n",
       "       -1.95063118e+03,  3.73787848e+02, -6.49392290e+03,  5.27820174e+03,\n",
       "        1.09734410e+04, -4.67558166e+03,  3.62142623e+03,  1.53792327e+03,\n",
       "        1.95472238e+04,  9.03451472e+02,  3.47920580e+04,  8.35958807e+02,\n",
       "        1.29601775e+04, -2.33778373e+03,  3.88338767e+03, -5.56113706e+02,\n",
       "        1.30721874e+04, -2.09224622e+03, -5.64348774e+03,  4.07105102e+03,\n",
       "        3.56356316e+03, -5.75900319e+03, -3.91847454e+03,  1.86072190e+04,\n",
       "       -2.85471552e+03,  3.38829613e+04,  7.12399988e+03, -4.23135075e+03,\n",
       "       -2.33487548e+02,  5.05450352e+02, -2.42591660e+02, -4.59032838e+03,\n",
       "       -5.00797977e+03, -5.33032138e+03,  3.24338526e+03,  1.00590298e+03,\n",
       "        6.93629338e+03, -9.16574146e+02, -3.68764158e+03, -2.70440226e+03,\n",
       "        5.66607642e+03,  5.10982380e+03,  7.13707023e+02, -4.58941887e+02,\n",
       "        3.51922209e+03,  5.38222541e+03,  7.08830347e+03, -2.13875899e+03,\n",
       "        2.94849221e+04])"
      ]
     },
     "execution_count": 65,
     "metadata": {},
     "output_type": "execute_result"
    }
   ],
   "source": [
    "y_pred"
   ]
  },
  {
   "cell_type": "code",
   "execution_count": 72,
   "metadata": {},
   "outputs": [],
   "source": [
    "meses_pred_idx = pd.date_range(start='2020-07-01', end='2020-12-31', freq='M')"
   ]
  },
  {
   "cell_type": "code",
   "execution_count": 73,
   "metadata": {},
   "outputs": [],
   "source": [
    "df_previsoes = pd.DataFrame(index=meses_pred_idx, columns=['tot_venda'], data=df)\n"
   ]
  },
  {
   "cell_type": "code",
   "execution_count": 74,
   "metadata": {},
   "outputs": [
    {
     "data": {
      "text/html": [
       "<div>\n",
       "<style scoped>\n",
       "    .dataframe tbody tr th:only-of-type {\n",
       "        vertical-align: middle;\n",
       "    }\n",
       "\n",
       "    .dataframe tbody tr th {\n",
       "        vertical-align: top;\n",
       "    }\n",
       "\n",
       "    .dataframe thead th {\n",
       "        text-align: right;\n",
       "    }\n",
       "</style>\n",
       "<table border=\"1\" class=\"dataframe\">\n",
       "  <thead>\n",
       "    <tr style=\"text-align: right;\">\n",
       "      <th></th>\n",
       "      <th>tot_venda</th>\n",
       "    </tr>\n",
       "  </thead>\n",
       "  <tbody>\n",
       "    <tr>\n",
       "      <th>2020-07-31</th>\n",
       "      <td>NaN</td>\n",
       "    </tr>\n",
       "    <tr>\n",
       "      <th>2020-08-31</th>\n",
       "      <td>NaN</td>\n",
       "    </tr>\n",
       "    <tr>\n",
       "      <th>2020-09-30</th>\n",
       "      <td>NaN</td>\n",
       "    </tr>\n",
       "    <tr>\n",
       "      <th>2020-10-31</th>\n",
       "      <td>NaN</td>\n",
       "    </tr>\n",
       "    <tr>\n",
       "      <th>2020-11-30</th>\n",
       "      <td>NaN</td>\n",
       "    </tr>\n",
       "    <tr>\n",
       "      <th>2020-12-31</th>\n",
       "      <td>NaN</td>\n",
       "    </tr>\n",
       "  </tbody>\n",
       "</table>\n",
       "</div>"
      ],
      "text/plain": [
       "            tot_venda\n",
       "2020-07-31        NaN\n",
       "2020-08-31        NaN\n",
       "2020-09-30        NaN\n",
       "2020-10-31        NaN\n",
       "2020-11-30        NaN\n",
       "2020-12-31        NaN"
      ]
     },
     "execution_count": 74,
     "metadata": {},
     "output_type": "execute_result"
    }
   ],
   "source": [
    "df_previsoes"
   ]
  },
  {
   "cell_type": "code",
   "execution_count": null,
   "metadata": {},
   "outputs": [],
   "source": [
    "import pandas as pd\n",
    "\n",
    "# Crie um DataFrame com as datas de julho a dezembro\n",
    "meses_pred = pd.date_range(start='2023-07-01', end='2023-12-31', freq='M')\n",
    "\n",
    "# Crie um DataFrame vazio para armazenar as previsões\n",
    "df_prox_meses = pd.DataFrame(index=meses_pred)\n",
    "\n",
    "# Preencha as colunas com os valores nulos para as features relevantes\n",
    "df_prox_meses['feature1'] = None  # Substitua None pelos valores correspondentes às features para julho a dezembro\n",
    "df_prox_meses['feature2'] = None\n",
    "# Adicione as demais features necessárias para as previsões\n",
    "\n",
    "# Faça as previsões para os próximos meses\n",
    "prox_meses_pred = modelo.predict(df_prox_meses)\n",
    "\n",
    "# Crie um DataFrame com as previsões para julho a dezembro\n",
    "df_previsoes = pd.DataFrame(index=meses_pred, columns=['tot_venda'], data=prox_meses_pred)\n"
   ]
  }
 ],
 "metadata": {
  "kernelspec": {
   "display_name": "my_env",
   "language": "python",
   "name": "my_env"
  },
  "language_info": {
   "codemirror_mode": {
    "name": "ipython",
    "version": 3
   },
   "file_extension": ".py",
   "mimetype": "text/x-python",
   "name": "python",
   "nbconvert_exporter": "python",
   "pygments_lexer": "ipython3",
   "version": "3.10.9"
  },
  "orig_nbformat": 4
 },
 "nbformat": 4,
 "nbformat_minor": 2
}
